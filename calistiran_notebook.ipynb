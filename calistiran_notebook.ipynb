{
 "cells": [
  {
   "cell_type": "code",
   "execution_count": 6,
   "id": "bcd2b20a",
   "metadata": {},
   "outputs": [
    {
     "name": "stdout",
     "output_type": "stream",
     "text": [
      "calistirma_no:  2 criter:  gini split:  best depth:  3\n",
      "******************************\n"
     ]
    },
    {
     "data": {
      "application/vnd.jupyter.widget-view+json": {
       "model_id": "ecbb424d25ab4560be34b969d685cfdb",
       "version_major": 2,
       "version_minor": 0
      },
      "text/plain": [
       "Executing:   0%|          | 0/18 [00:00<?, ?cell/s]"
      ]
     },
     "metadata": {},
     "output_type": "display_data"
    },
    {
     "name": "stdout",
     "output_type": "stream",
     "text": [
      "calistirma_no:  3 criter:  gini split:  best depth:  4\n",
      "******************************\n"
     ]
    },
    {
     "data": {
      "application/vnd.jupyter.widget-view+json": {
       "model_id": "2548b5789bd644fda6b24925c4b19881",
       "version_major": 2,
       "version_minor": 0
      },
      "text/plain": [
       "Executing:   0%|          | 0/18 [00:00<?, ?cell/s]"
      ]
     },
     "metadata": {},
     "output_type": "display_data"
    },
    {
     "name": "stdout",
     "output_type": "stream",
     "text": [
      "calistirma_no:  4 criter:  gini split:  best depth:  5\n",
      "******************************\n"
     ]
    },
    {
     "data": {
      "application/vnd.jupyter.widget-view+json": {
       "model_id": "882bc938c4e74135a2a953cf7c812be2",
       "version_major": 2,
       "version_minor": 0
      },
      "text/plain": [
       "Executing:   0%|          | 0/18 [00:00<?, ?cell/s]"
      ]
     },
     "metadata": {},
     "output_type": "display_data"
    },
    {
     "name": "stdout",
     "output_type": "stream",
     "text": [
      "calistirma_no:  5 criter:  gini split:  best depth:  6\n",
      "******************************\n"
     ]
    },
    {
     "data": {
      "application/vnd.jupyter.widget-view+json": {
       "model_id": "623baf3fe8124bcca62fd2eebf1bb533",
       "version_major": 2,
       "version_minor": 0
      },
      "text/plain": [
       "Executing:   0%|          | 0/18 [00:00<?, ?cell/s]"
      ]
     },
     "metadata": {},
     "output_type": "display_data"
    },
    {
     "name": "stdout",
     "output_type": "stream",
     "text": [
      "calistirma_no:  6 criter:  gini split:  best depth:  7\n",
      "******************************\n"
     ]
    },
    {
     "data": {
      "application/vnd.jupyter.widget-view+json": {
       "model_id": "a2587a3e8f254e20a5f7c94f49b92a65",
       "version_major": 2,
       "version_minor": 0
      },
      "text/plain": [
       "Executing:   0%|          | 0/18 [00:00<?, ?cell/s]"
      ]
     },
     "metadata": {},
     "output_type": "display_data"
    },
    {
     "name": "stdout",
     "output_type": "stream",
     "text": [
      "calistirma_no:  7 criter:  gini split:  best depth:  8\n",
      "******************************\n"
     ]
    },
    {
     "data": {
      "application/vnd.jupyter.widget-view+json": {
       "model_id": "759bb608b5d2461c94126a9061ed223c",
       "version_major": 2,
       "version_minor": 0
      },
      "text/plain": [
       "Executing:   0%|          | 0/18 [00:00<?, ?cell/s]"
      ]
     },
     "metadata": {},
     "output_type": "display_data"
    },
    {
     "name": "stdout",
     "output_type": "stream",
     "text": [
      "calistirma_no:  8 criter:  gini split:  random depth:  3\n",
      "******************************\n"
     ]
    },
    {
     "data": {
      "application/vnd.jupyter.widget-view+json": {
       "model_id": "8c082ec37ff84dd7bd8f48e0913fe976",
       "version_major": 2,
       "version_minor": 0
      },
      "text/plain": [
       "Executing:   0%|          | 0/18 [00:00<?, ?cell/s]"
      ]
     },
     "metadata": {},
     "output_type": "display_data"
    },
    {
     "name": "stdout",
     "output_type": "stream",
     "text": [
      "calistirma_no:  9 criter:  gini split:  random depth:  4\n",
      "******************************\n"
     ]
    },
    {
     "data": {
      "application/vnd.jupyter.widget-view+json": {
       "model_id": "e47571ad45d44fa685e5ef24fa31243e",
       "version_major": 2,
       "version_minor": 0
      },
      "text/plain": [
       "Executing:   0%|          | 0/18 [00:00<?, ?cell/s]"
      ]
     },
     "metadata": {},
     "output_type": "display_data"
    },
    {
     "name": "stdout",
     "output_type": "stream",
     "text": [
      "calistirma_no:  10 criter:  gini split:  random depth:  5\n",
      "******************************\n"
     ]
    },
    {
     "data": {
      "application/vnd.jupyter.widget-view+json": {
       "model_id": "242cf2dfa98040369615a2e5e021b9b9",
       "version_major": 2,
       "version_minor": 0
      },
      "text/plain": [
       "Executing:   0%|          | 0/18 [00:00<?, ?cell/s]"
      ]
     },
     "metadata": {},
     "output_type": "display_data"
    },
    {
     "name": "stdout",
     "output_type": "stream",
     "text": [
      "calistirma_no:  11 criter:  gini split:  random depth:  6\n",
      "******************************\n"
     ]
    },
    {
     "data": {
      "application/vnd.jupyter.widget-view+json": {
       "model_id": "a0215c78ceb543c2883b81dd246a4bbc",
       "version_major": 2,
       "version_minor": 0
      },
      "text/plain": [
       "Executing:   0%|          | 0/18 [00:00<?, ?cell/s]"
      ]
     },
     "metadata": {},
     "output_type": "display_data"
    },
    {
     "name": "stdout",
     "output_type": "stream",
     "text": [
      "calistirma_no:  12 criter:  gini split:  random depth:  7\n",
      "******************************\n"
     ]
    },
    {
     "data": {
      "application/vnd.jupyter.widget-view+json": {
       "model_id": "3c848b483ae5469c8465c7363ab14c10",
       "version_major": 2,
       "version_minor": 0
      },
      "text/plain": [
       "Executing:   0%|          | 0/18 [00:00<?, ?cell/s]"
      ]
     },
     "metadata": {},
     "output_type": "display_data"
    },
    {
     "name": "stdout",
     "output_type": "stream",
     "text": [
      "calistirma_no:  13 criter:  gini split:  random depth:  8\n",
      "******************************\n"
     ]
    },
    {
     "data": {
      "application/vnd.jupyter.widget-view+json": {
       "model_id": "2993f073249c42f28fe7e1cdd40d0cc8",
       "version_major": 2,
       "version_minor": 0
      },
      "text/plain": [
       "Executing:   0%|          | 0/18 [00:00<?, ?cell/s]"
      ]
     },
     "metadata": {},
     "output_type": "display_data"
    },
    {
     "name": "stdout",
     "output_type": "stream",
     "text": [
      "calistirma_no:  14 criter:  entropy split:  best depth:  3\n",
      "******************************\n"
     ]
    },
    {
     "data": {
      "application/vnd.jupyter.widget-view+json": {
       "model_id": "312bd27d2d664feda29eab16268f516c",
       "version_major": 2,
       "version_minor": 0
      },
      "text/plain": [
       "Executing:   0%|          | 0/18 [00:00<?, ?cell/s]"
      ]
     },
     "metadata": {},
     "output_type": "display_data"
    },
    {
     "name": "stdout",
     "output_type": "stream",
     "text": [
      "calistirma_no:  15 criter:  entropy split:  best depth:  4\n",
      "******************************\n"
     ]
    },
    {
     "data": {
      "application/vnd.jupyter.widget-view+json": {
       "model_id": "39ff556f9cd14962ac429096a656848f",
       "version_major": 2,
       "version_minor": 0
      },
      "text/plain": [
       "Executing:   0%|          | 0/18 [00:00<?, ?cell/s]"
      ]
     },
     "metadata": {},
     "output_type": "display_data"
    },
    {
     "name": "stdout",
     "output_type": "stream",
     "text": [
      "calistirma_no:  16 criter:  entropy split:  best depth:  5\n",
      "******************************\n"
     ]
    },
    {
     "data": {
      "application/vnd.jupyter.widget-view+json": {
       "model_id": "8d0028a01cea485bbca624cfb24f53ac",
       "version_major": 2,
       "version_minor": 0
      },
      "text/plain": [
       "Executing:   0%|          | 0/18 [00:00<?, ?cell/s]"
      ]
     },
     "metadata": {},
     "output_type": "display_data"
    },
    {
     "name": "stdout",
     "output_type": "stream",
     "text": [
      "calistirma_no:  17 criter:  entropy split:  best depth:  6\n",
      "******************************\n"
     ]
    },
    {
     "data": {
      "application/vnd.jupyter.widget-view+json": {
       "model_id": "c5ae226d66154264a4fb295d3539039a",
       "version_major": 2,
       "version_minor": 0
      },
      "text/plain": [
       "Executing:   0%|          | 0/18 [00:00<?, ?cell/s]"
      ]
     },
     "metadata": {},
     "output_type": "display_data"
    },
    {
     "name": "stdout",
     "output_type": "stream",
     "text": [
      "calistirma_no:  18 criter:  entropy split:  best depth:  7\n",
      "******************************\n"
     ]
    },
    {
     "data": {
      "application/vnd.jupyter.widget-view+json": {
       "model_id": "dcd3fab00be54a7e92bc30d25475d45e",
       "version_major": 2,
       "version_minor": 0
      },
      "text/plain": [
       "Executing:   0%|          | 0/18 [00:00<?, ?cell/s]"
      ]
     },
     "metadata": {},
     "output_type": "display_data"
    },
    {
     "name": "stdout",
     "output_type": "stream",
     "text": [
      "calistirma_no:  19 criter:  entropy split:  best depth:  8\n",
      "******************************\n"
     ]
    },
    {
     "data": {
      "application/vnd.jupyter.widget-view+json": {
       "model_id": "ed709631e9a741018fab85c7fab4ac37",
       "version_major": 2,
       "version_minor": 0
      },
      "text/plain": [
       "Executing:   0%|          | 0/18 [00:00<?, ?cell/s]"
      ]
     },
     "metadata": {},
     "output_type": "display_data"
    },
    {
     "name": "stdout",
     "output_type": "stream",
     "text": [
      "calistirma_no:  20 criter:  entropy split:  random depth:  3\n",
      "******************************\n"
     ]
    },
    {
     "data": {
      "application/vnd.jupyter.widget-view+json": {
       "model_id": "2a651e8043c646e489a299633a6ef8b0",
       "version_major": 2,
       "version_minor": 0
      },
      "text/plain": [
       "Executing:   0%|          | 0/18 [00:00<?, ?cell/s]"
      ]
     },
     "metadata": {},
     "output_type": "display_data"
    },
    {
     "name": "stdout",
     "output_type": "stream",
     "text": [
      "calistirma_no:  21 criter:  entropy split:  random depth:  4\n",
      "******************************\n"
     ]
    },
    {
     "data": {
      "application/vnd.jupyter.widget-view+json": {
       "model_id": "938c983eeff94bd0ab12cca810b89e3c",
       "version_major": 2,
       "version_minor": 0
      },
      "text/plain": [
       "Executing:   0%|          | 0/18 [00:00<?, ?cell/s]"
      ]
     },
     "metadata": {},
     "output_type": "display_data"
    },
    {
     "name": "stdout",
     "output_type": "stream",
     "text": [
      "calistirma_no:  22 criter:  entropy split:  random depth:  5\n",
      "******************************\n"
     ]
    },
    {
     "data": {
      "application/vnd.jupyter.widget-view+json": {
       "model_id": "87681bc640814e548c44a5fccd313b32",
       "version_major": 2,
       "version_minor": 0
      },
      "text/plain": [
       "Executing:   0%|          | 0/18 [00:00<?, ?cell/s]"
      ]
     },
     "metadata": {},
     "output_type": "display_data"
    },
    {
     "name": "stdout",
     "output_type": "stream",
     "text": [
      "calistirma_no:  23 criter:  entropy split:  random depth:  6\n",
      "******************************\n"
     ]
    },
    {
     "data": {
      "application/vnd.jupyter.widget-view+json": {
       "model_id": "51f2c0144caf4ee4bfb03918b8662227",
       "version_major": 2,
       "version_minor": 0
      },
      "text/plain": [
       "Executing:   0%|          | 0/18 [00:00<?, ?cell/s]"
      ]
     },
     "metadata": {},
     "output_type": "display_data"
    },
    {
     "name": "stdout",
     "output_type": "stream",
     "text": [
      "calistirma_no:  24 criter:  entropy split:  random depth:  7\n",
      "******************************\n"
     ]
    },
    {
     "data": {
      "application/vnd.jupyter.widget-view+json": {
       "model_id": "873bed9f216c494a8fc6289ba01ee48d",
       "version_major": 2,
       "version_minor": 0
      },
      "text/plain": [
       "Executing:   0%|          | 0/18 [00:00<?, ?cell/s]"
      ]
     },
     "metadata": {},
     "output_type": "display_data"
    },
    {
     "name": "stdout",
     "output_type": "stream",
     "text": [
      "calistirma_no:  25 criter:  entropy split:  random depth:  8\n",
      "******************************\n"
     ]
    },
    {
     "data": {
      "application/vnd.jupyter.widget-view+json": {
       "model_id": "eea6302aac5842edb6a488078cfa22b4",
       "version_major": 2,
       "version_minor": 0
      },
      "text/plain": [
       "Executing:   0%|          | 0/18 [00:00<?, ?cell/s]"
      ]
     },
     "metadata": {},
     "output_type": "display_data"
    }
   ],
   "source": [
    "import papermill as pm\n",
    "\n",
    "# parametre listesi\n",
    "criterion_list = [\"gini\", \"entropy\"]\n",
    "splitter_list = [\"best\", \"random\"]\n",
    "max_depth_list = [i + 3 for i in range(6)]\n",
    "calistirma_no = 1\n",
    "\n",
    "for criter in criterion_list:\n",
    "    for split in splitter_list:\n",
    "        for depth in max_depth_list:\n",
    "            calistirma_no += 1\n",
    "            print(\"calistirma_no: \", calistirma_no, \"criter: \", criter,\n",
    "                  \"split: \", split, \"depth: \", depth)\n",
    "            print(\"*\" * 30)\n",
    "            pm.execute_notebook(\n",
    "                input_path=\"calistirilacak_notebook.ipynb\",\n",
    "                output_path=\"output\\\\{}.ipynb\".format(calistirma_no),\n",
    "                parameters=dict(calistirma_no=calistirma_no,\n",
    "                                criterion=criter,\n",
    "                                splitter=split,\n",
    "                                max_depth=depth))"
   ]
  },
  {
   "cell_type": "code",
   "execution_count": 1,
   "id": "30be3185",
   "metadata": {},
   "outputs": [
    {
     "data": {
      "text/plain": [
       "[3, 4, 5, 6, 7, 8]"
      ]
     },
     "execution_count": 1,
     "metadata": {},
     "output_type": "execute_result"
    }
   ],
   "source": [
    "[i+3 for i in range(6)]"
   ]
  },
  {
   "cell_type": "code",
   "execution_count": 8,
   "id": "86cb10e8",
   "metadata": {},
   "outputs": [
    {
     "name": "stdout",
     "output_type": "stream",
     "text": [
      "calistirma_no:  2 criter:  gini split:  best depth:  3\n",
      "calistirma_no:  3 criter:  gini split:  best depth:  4\n",
      "calistirma_no:  4 criter:  gini split:  best depth:  5\n",
      "calistirma_no:  5 criter:  gini split:  best depth:  6\n",
      "calistirma_no:  6 criter:  gini split:  best depth:  7\n",
      "calistirma_no:  7 criter:  gini split:  best depth:  8\n",
      "calistirma_no:  8 criter:  gini split:  random depth:  3\n",
      "calistirma_no:  9 criter:  gini split:  random depth:  4\n",
      "calistirma_no:  10 criter:  gini split:  random depth:  5\n",
      "calistirma_no:  11 criter:  gini split:  random depth:  6\n",
      "calistirma_no:  12 criter:  gini split:  random depth:  7\n",
      "calistirma_no:  13 criter:  gini split:  random depth:  8\n",
      "calistirma_no:  14 criter:  entropy split:  best depth:  3\n",
      "calistirma_no:  15 criter:  entropy split:  best depth:  4\n",
      "calistirma_no:  16 criter:  entropy split:  best depth:  5\n",
      "calistirma_no:  17 criter:  entropy split:  best depth:  6\n",
      "calistirma_no:  18 criter:  entropy split:  best depth:  7\n",
      "calistirma_no:  19 criter:  entropy split:  best depth:  8\n",
      "calistirma_no:  20 criter:  entropy split:  random depth:  3\n",
      "calistirma_no:  21 criter:  entropy split:  random depth:  4\n",
      "calistirma_no:  22 criter:  entropy split:  random depth:  5\n",
      "calistirma_no:  23 criter:  entropy split:  random depth:  6\n",
      "calistirma_no:  24 criter:  entropy split:  random depth:  7\n",
      "calistirma_no:  25 criter:  entropy split:  random depth:  8\n"
     ]
    }
   ],
   "source": [
    "calistirma_no = 1\n",
    "for criter in criterion_list:\n",
    "    for split in splitter_list:\n",
    "        for depth in max_depth_list:\n",
    "            calistirma_no += 1\n",
    "            print(\"calistirma_no: \", calistirma_no, \"criter: \", criter,\n",
    "                  \"split: \", split, \"depth: \", depth)"
   ]
  },
  {
   "cell_type": "code",
   "execution_count": null,
   "id": "46958ba3",
   "metadata": {},
   "outputs": [],
   "source": []
  }
 ],
 "metadata": {
  "kernelspec": {
   "display_name": "Python 3 (ipykernel)",
   "language": "python",
   "name": "python3"
  },
  "language_info": {
   "codemirror_mode": {
    "name": "ipython",
    "version": 3
   },
   "file_extension": ".py",
   "mimetype": "text/x-python",
   "name": "python",
   "nbconvert_exporter": "python",
   "pygments_lexer": "ipython3",
   "version": "3.9.7"
  },
  "toc": {
   "base_numbering": 1,
   "nav_menu": {},
   "number_sections": true,
   "sideBar": true,
   "skip_h1_title": false,
   "title_cell": "Table of Contents",
   "title_sidebar": "Contents",
   "toc_cell": false,
   "toc_position": {},
   "toc_section_display": true,
   "toc_window_display": false
  },
  "varInspector": {
   "cols": {
    "lenName": 16,
    "lenType": 16,
    "lenVar": 40
   },
   "kernels_config": {
    "python": {
     "delete_cmd_postfix": "",
     "delete_cmd_prefix": "del ",
     "library": "var_list.py",
     "varRefreshCmd": "print(var_dic_list())"
    },
    "r": {
     "delete_cmd_postfix": ") ",
     "delete_cmd_prefix": "rm(",
     "library": "var_list.r",
     "varRefreshCmd": "cat(var_dic_list()) "
    }
   },
   "types_to_exclude": [
    "module",
    "function",
    "builtin_function_or_method",
    "instance",
    "_Feature"
   ],
   "window_display": false
  }
 },
 "nbformat": 4,
 "nbformat_minor": 5
}
