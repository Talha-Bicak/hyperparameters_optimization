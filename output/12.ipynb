{
 "cells": [
  {
   "cell_type": "code",
   "execution_count": 1,
   "id": "6816f9ae",
   "metadata": {
    "execution": {
     "iopub.execute_input": "2022-02-12T12:44:04.222648Z",
     "iopub.status.busy": "2022-02-12T12:44:04.221387Z",
     "iopub.status.idle": "2022-02-12T12:44:04.228641Z",
     "shell.execute_reply": "2022-02-12T12:44:04.230888Z"
    },
    "papermill": {
     "duration": 0.066712,
     "end_time": "2022-02-12T12:44:04.230888",
     "exception": false,
     "start_time": "2022-02-12T12:44:04.164176",
     "status": "completed"
    },
    "tags": [
     "parameters"
    ]
   },
   "outputs": [],
   "source": [
    "# parametrelerin girildiği hücre\n",
    "calistirma_no = 1\n",
    "\n",
    "# hiper parametreler\n",
    "criterion='gini'\n",
    "splitter='best'\n",
    "max_depth=None"
   ]
  },
  {
   "cell_type": "code",
   "execution_count": 2,
   "id": "3964c0a4",
   "metadata": {
    "execution": {
     "iopub.execute_input": "2022-02-12T12:44:04.314806Z",
     "iopub.status.busy": "2022-02-12T12:44:04.313309Z",
     "iopub.status.idle": "2022-02-12T12:44:04.318559Z",
     "shell.execute_reply": "2022-02-12T12:44:04.322297Z"
    },
    "papermill": {
     "duration": 0.056193,
     "end_time": "2022-02-12T12:44:04.323046",
     "exception": false,
     "start_time": "2022-02-12T12:44:04.266853",
     "status": "completed"
    },
    "tags": [
     "injected-parameters"
    ]
   },
   "outputs": [],
   "source": [
    "# Parameters\n",
    "calistirma_no = 12\n",
    "criterion = \"gini\"\n",
    "splitter = \"random\"\n",
    "max_depth = 7\n"
   ]
  },
  {
   "cell_type": "code",
   "execution_count": 3,
   "id": "3cc16bbe",
   "metadata": {
    "execution": {
     "iopub.execute_input": "2022-02-12T12:44:04.410538Z",
     "iopub.status.busy": "2022-02-12T12:44:04.409040Z",
     "iopub.status.idle": "2022-02-12T12:44:07.333116Z",
     "shell.execute_reply": "2022-02-12T12:44:07.333865Z"
    },
    "papermill": {
     "duration": 2.976351,
     "end_time": "2022-02-12T12:44:07.334613",
     "exception": false,
     "start_time": "2022-02-12T12:44:04.358262",
     "status": "completed"
    },
    "tags": []
   },
   "outputs": [],
   "source": [
    "# Öğrenmenin gerçekleşeceği hücre\n",
    "import pandas as pd\n",
    "from sklearn.tree import DecisionTreeClassifier\n",
    "from sklearn.model_selection import train_test_split\n",
    "from sklearn import metrics"
   ]
  },
  {
   "cell_type": "code",
   "execution_count": 4,
   "id": "c06f4b1c",
   "metadata": {
    "execution": {
     "iopub.execute_input": "2022-02-12T12:44:07.436511Z",
     "iopub.status.busy": "2022-02-12T12:44:07.435013Z",
     "iopub.status.idle": "2022-02-12T12:44:07.494283Z",
     "shell.execute_reply": "2022-02-12T12:44:07.495782Z"
    },
    "papermill": {
     "duration": 0.125216,
     "end_time": "2022-02-12T12:44:07.496543",
     "exception": false,
     "start_time": "2022-02-12T12:44:07.371327",
     "status": "completed"
    },
    "tags": []
   },
   "outputs": [
    {
     "data": {
      "text/html": [
       "<div>\n",
       "<style scoped>\n",
       "    .dataframe tbody tr th:only-of-type {\n",
       "        vertical-align: middle;\n",
       "    }\n",
       "\n",
       "    .dataframe tbody tr th {\n",
       "        vertical-align: top;\n",
       "    }\n",
       "\n",
       "    .dataframe thead th {\n",
       "        text-align: right;\n",
       "    }\n",
       "</style>\n",
       "<table border=\"1\" class=\"dataframe\">\n",
       "  <thead>\n",
       "    <tr style=\"text-align: right;\">\n",
       "      <th></th>\n",
       "      <th>Pregnancies</th>\n",
       "      <th>Glucose</th>\n",
       "      <th>BloodPressure</th>\n",
       "      <th>SkinThickness</th>\n",
       "      <th>Insulin</th>\n",
       "      <th>BMI</th>\n",
       "      <th>DiabetesPedigreeFunction</th>\n",
       "      <th>Age</th>\n",
       "      <th>Outcome</th>\n",
       "    </tr>\n",
       "  </thead>\n",
       "  <tbody>\n",
       "    <tr>\n",
       "      <th>0</th>\n",
       "      <td>6</td>\n",
       "      <td>148</td>\n",
       "      <td>72</td>\n",
       "      <td>35</td>\n",
       "      <td>0</td>\n",
       "      <td>33.6</td>\n",
       "      <td>0.627</td>\n",
       "      <td>50</td>\n",
       "      <td>1</td>\n",
       "    </tr>\n",
       "    <tr>\n",
       "      <th>1</th>\n",
       "      <td>1</td>\n",
       "      <td>85</td>\n",
       "      <td>66</td>\n",
       "      <td>29</td>\n",
       "      <td>0</td>\n",
       "      <td>26.6</td>\n",
       "      <td>0.351</td>\n",
       "      <td>31</td>\n",
       "      <td>0</td>\n",
       "    </tr>\n",
       "    <tr>\n",
       "      <th>2</th>\n",
       "      <td>8</td>\n",
       "      <td>183</td>\n",
       "      <td>64</td>\n",
       "      <td>0</td>\n",
       "      <td>0</td>\n",
       "      <td>23.3</td>\n",
       "      <td>0.672</td>\n",
       "      <td>32</td>\n",
       "      <td>1</td>\n",
       "    </tr>\n",
       "    <tr>\n",
       "      <th>3</th>\n",
       "      <td>1</td>\n",
       "      <td>89</td>\n",
       "      <td>66</td>\n",
       "      <td>23</td>\n",
       "      <td>94</td>\n",
       "      <td>28.1</td>\n",
       "      <td>0.167</td>\n",
       "      <td>21</td>\n",
       "      <td>0</td>\n",
       "    </tr>\n",
       "    <tr>\n",
       "      <th>4</th>\n",
       "      <td>0</td>\n",
       "      <td>137</td>\n",
       "      <td>40</td>\n",
       "      <td>35</td>\n",
       "      <td>168</td>\n",
       "      <td>43.1</td>\n",
       "      <td>2.288</td>\n",
       "      <td>33</td>\n",
       "      <td>1</td>\n",
       "    </tr>\n",
       "  </tbody>\n",
       "</table>\n",
       "</div>"
      ],
      "text/plain": [
       "   Pregnancies  Glucose  BloodPressure  SkinThickness  Insulin   BMI  \\\n",
       "0            6      148             72             35        0  33.6   \n",
       "1            1       85             66             29        0  26.6   \n",
       "2            8      183             64              0        0  23.3   \n",
       "3            1       89             66             23       94  28.1   \n",
       "4            0      137             40             35      168  43.1   \n",
       "\n",
       "   DiabetesPedigreeFunction  Age  Outcome  \n",
       "0                     0.627   50        1  \n",
       "1                     0.351   31        0  \n",
       "2                     0.672   32        1  \n",
       "3                     0.167   21        0  \n",
       "4                     2.288   33        1  "
      ]
     },
     "execution_count": 4,
     "metadata": {},
     "output_type": "execute_result"
    }
   ],
   "source": [
    "dataset = pd.read_csv(\"diabetes.csv\")\n",
    "dataset.head()"
   ]
  },
  {
   "cell_type": "code",
   "execution_count": 5,
   "id": "ee5885ed",
   "metadata": {
    "execution": {
     "iopub.execute_input": "2022-02-12T12:44:07.605173Z",
     "iopub.status.busy": "2022-02-12T12:44:07.603674Z",
     "iopub.status.idle": "2022-02-12T12:44:07.609667Z",
     "shell.execute_reply": "2022-02-12T12:44:07.611165Z"
    },
    "papermill": {
     "duration": 0.082436,
     "end_time": "2022-02-12T12:44:07.613432",
     "exception": false,
     "start_time": "2022-02-12T12:44:07.530996",
     "status": "completed"
    },
    "tags": []
   },
   "outputs": [
    {
     "data": {
      "text/html": [
       "<div>\n",
       "<style scoped>\n",
       "    .dataframe tbody tr th:only-of-type {\n",
       "        vertical-align: middle;\n",
       "    }\n",
       "\n",
       "    .dataframe tbody tr th {\n",
       "        vertical-align: top;\n",
       "    }\n",
       "\n",
       "    .dataframe thead th {\n",
       "        text-align: right;\n",
       "    }\n",
       "</style>\n",
       "<table border=\"1\" class=\"dataframe\">\n",
       "  <thead>\n",
       "    <tr style=\"text-align: right;\">\n",
       "      <th></th>\n",
       "      <th>Pregnancies</th>\n",
       "      <th>Glucose</th>\n",
       "      <th>BloodPressure</th>\n",
       "      <th>SkinThickness</th>\n",
       "      <th>Insulin</th>\n",
       "      <th>BMI</th>\n",
       "      <th>DiabetesPedigreeFunction</th>\n",
       "      <th>Age</th>\n",
       "    </tr>\n",
       "  </thead>\n",
       "  <tbody>\n",
       "    <tr>\n",
       "      <th>0</th>\n",
       "      <td>6</td>\n",
       "      <td>148</td>\n",
       "      <td>72</td>\n",
       "      <td>35</td>\n",
       "      <td>0</td>\n",
       "      <td>33.6</td>\n",
       "      <td>0.627</td>\n",
       "      <td>50</td>\n",
       "    </tr>\n",
       "    <tr>\n",
       "      <th>1</th>\n",
       "      <td>1</td>\n",
       "      <td>85</td>\n",
       "      <td>66</td>\n",
       "      <td>29</td>\n",
       "      <td>0</td>\n",
       "      <td>26.6</td>\n",
       "      <td>0.351</td>\n",
       "      <td>31</td>\n",
       "    </tr>\n",
       "    <tr>\n",
       "      <th>2</th>\n",
       "      <td>8</td>\n",
       "      <td>183</td>\n",
       "      <td>64</td>\n",
       "      <td>0</td>\n",
       "      <td>0</td>\n",
       "      <td>23.3</td>\n",
       "      <td>0.672</td>\n",
       "      <td>32</td>\n",
       "    </tr>\n",
       "    <tr>\n",
       "      <th>3</th>\n",
       "      <td>1</td>\n",
       "      <td>89</td>\n",
       "      <td>66</td>\n",
       "      <td>23</td>\n",
       "      <td>94</td>\n",
       "      <td>28.1</td>\n",
       "      <td>0.167</td>\n",
       "      <td>21</td>\n",
       "    </tr>\n",
       "    <tr>\n",
       "      <th>4</th>\n",
       "      <td>0</td>\n",
       "      <td>137</td>\n",
       "      <td>40</td>\n",
       "      <td>35</td>\n",
       "      <td>168</td>\n",
       "      <td>43.1</td>\n",
       "      <td>2.288</td>\n",
       "      <td>33</td>\n",
       "    </tr>\n",
       "  </tbody>\n",
       "</table>\n",
       "</div>"
      ],
      "text/plain": [
       "   Pregnancies  Glucose  BloodPressure  SkinThickness  Insulin   BMI  \\\n",
       "0            6      148             72             35        0  33.6   \n",
       "1            1       85             66             29        0  26.6   \n",
       "2            8      183             64              0        0  23.3   \n",
       "3            1       89             66             23       94  28.1   \n",
       "4            0      137             40             35      168  43.1   \n",
       "\n",
       "   DiabetesPedigreeFunction  Age  \n",
       "0                     0.627   50  \n",
       "1                     0.351   31  \n",
       "2                     0.672   32  \n",
       "3                     0.167   21  \n",
       "4                     2.288   33  "
      ]
     },
     "execution_count": 5,
     "metadata": {},
     "output_type": "execute_result"
    }
   ],
   "source": [
    "X, y = dataset.iloc[:,:-1], dataset.iloc[:,-1]\n",
    "X.head()"
   ]
  },
  {
   "cell_type": "code",
   "execution_count": 6,
   "id": "717e989f",
   "metadata": {
    "execution": {
     "iopub.execute_input": "2022-02-12T12:44:07.715314Z",
     "iopub.status.busy": "2022-02-12T12:44:07.713821Z",
     "iopub.status.idle": "2022-02-12T12:44:07.722653Z",
     "shell.execute_reply": "2022-02-12T12:44:07.727145Z"
    },
    "papermill": {
     "duration": 0.068025,
     "end_time": "2022-02-12T12:44:07.727145",
     "exception": false,
     "start_time": "2022-02-12T12:44:07.659120",
     "status": "completed"
    },
    "tags": []
   },
   "outputs": [],
   "source": [
    "X_train, X_test, y_train, y_test = train_test_split(X, y, test_size=0.3, random_state=42)"
   ]
  },
  {
   "cell_type": "code",
   "execution_count": 7,
   "id": "e3b6497d",
   "metadata": {
    "execution": {
     "iopub.execute_input": "2022-02-12T12:44:07.843581Z",
     "iopub.status.busy": "2022-02-12T12:44:07.842083Z",
     "iopub.status.idle": "2022-02-12T12:44:07.851104Z",
     "shell.execute_reply": "2022-02-12T12:44:07.854820Z"
    },
    "papermill": {
     "duration": 0.08422,
     "end_time": "2022-02-12T12:44:07.855570",
     "exception": false,
     "start_time": "2022-02-12T12:44:07.771350",
     "status": "completed"
    },
    "tags": []
   },
   "outputs": [
    {
     "data": {
      "text/plain": [
       "((537, 8), (231, 8), (537,), (231,))"
      ]
     },
     "execution_count": 7,
     "metadata": {},
     "output_type": "execute_result"
    }
   ],
   "source": [
    "X_train.shape, X_test.shape, y_train.shape, y_test.shape"
   ]
  },
  {
   "cell_type": "code",
   "execution_count": 8,
   "id": "d1db563d",
   "metadata": {
    "execution": {
     "iopub.execute_input": "2022-02-12T12:44:07.955219Z",
     "iopub.status.busy": "2022-02-12T12:44:07.954471Z",
     "iopub.status.idle": "2022-02-12T12:44:07.961962Z",
     "shell.execute_reply": "2022-02-12T12:44:07.960465Z"
    },
    "papermill": {
     "duration": 0.061437,
     "end_time": "2022-02-12T12:44:07.962711",
     "exception": false,
     "start_time": "2022-02-12T12:44:07.901274",
     "status": "completed"
    },
    "tags": []
   },
   "outputs": [],
   "source": [
    "model = DecisionTreeClassifier(criterion=criterion, splitter=splitter, max_depth=max_depth)"
   ]
  },
  {
   "cell_type": "code",
   "execution_count": 9,
   "id": "d457d60f",
   "metadata": {
    "execution": {
     "iopub.execute_input": "2022-02-12T12:44:08.062373Z",
     "iopub.status.busy": "2022-02-12T12:44:08.059369Z",
     "iopub.status.idle": "2022-02-12T12:44:08.073602Z",
     "shell.execute_reply": "2022-02-12T12:44:08.074350Z"
    },
    "papermill": {
     "duration": 0.071179,
     "end_time": "2022-02-12T12:44:08.075099",
     "exception": false,
     "start_time": "2022-02-12T12:44:08.003920",
     "status": "completed"
    },
    "tags": []
   },
   "outputs": [
    {
     "data": {
      "text/plain": [
       "DecisionTreeClassifier(max_depth=7, splitter='random')"
      ]
     },
     "execution_count": 9,
     "metadata": {},
     "output_type": "execute_result"
    }
   ],
   "source": [
    "model.fit(X_train, y_train)"
   ]
  },
  {
   "cell_type": "code",
   "execution_count": 10,
   "id": "4fd860e1",
   "metadata": {
    "execution": {
     "iopub.execute_input": "2022-02-12T12:44:08.182993Z",
     "iopub.status.busy": "2022-02-12T12:44:08.182242Z",
     "iopub.status.idle": "2022-02-12T12:44:08.190484Z",
     "shell.execute_reply": "2022-02-12T12:44:08.191983Z"
    },
    "papermill": {
     "duration": 0.062936,
     "end_time": "2022-02-12T12:44:08.191983",
     "exception": false,
     "start_time": "2022-02-12T12:44:08.129047",
     "status": "completed"
    },
    "tags": []
   },
   "outputs": [],
   "source": [
    "y_pred = model.predict(X_test)"
   ]
  },
  {
   "cell_type": "code",
   "execution_count": 11,
   "id": "e6f88a02",
   "metadata": {
    "execution": {
     "iopub.execute_input": "2022-02-12T12:44:08.289386Z",
     "iopub.status.busy": "2022-02-12T12:44:08.287887Z",
     "iopub.status.idle": "2022-02-12T12:44:08.298378Z",
     "shell.execute_reply": "2022-02-12T12:44:08.299125Z"
    },
    "papermill": {
     "duration": 0.065185,
     "end_time": "2022-02-12T12:44:08.299874",
     "exception": false,
     "start_time": "2022-02-12T12:44:08.234689",
     "status": "completed"
    },
    "tags": []
   },
   "outputs": [
    {
     "data": {
      "text/plain": [
       "array([1, 0, 0, 0, 0, 1, 0, 1, 1, 1, 0, 0, 1, 1, 0, 0, 0, 0, 1, 1, 0, 0,\n",
       "       0, 0, 1, 1, 0, 0, 0, 0, 1, 1, 1, 1, 1, 1, 1, 1, 0, 0, 0, 0, 1, 1,\n",
       "       0, 1, 1, 0, 0, 0, 0, 0, 1, 0, 0, 0, 1, 0, 0, 1, 1, 0, 0, 0, 0, 1,\n",
       "       0, 1, 0, 1, 1, 0, 0, 0, 0, 0, 0, 0, 0, 0, 1, 0, 0, 1, 0, 1, 0, 0,\n",
       "       0, 0, 0, 0, 0, 0, 0, 1, 1, 0, 1, 0, 1, 0, 0, 1, 1, 0, 0, 1, 0, 1,\n",
       "       0, 1, 1, 1, 0, 0, 1, 0, 0, 1, 0, 0, 1, 0, 0, 1, 1, 1, 1, 1, 1, 1,\n",
       "       0, 0, 1, 0, 1, 1, 1, 0, 0, 0, 0, 1, 0, 1, 0, 0, 0, 1, 0, 1, 0, 0,\n",
       "       0, 0, 0, 0, 1, 0, 0, 1, 0, 0, 0, 1, 0, 0, 1, 1, 1, 0, 1, 0, 1, 0,\n",
       "       0, 0, 0, 0, 0, 0, 0, 1, 0, 0, 0, 0, 1, 1, 0, 0, 1, 0, 0, 0, 0, 0,\n",
       "       0, 1, 0, 0, 0, 0, 0, 0, 0, 0, 1, 1, 0, 0, 0, 0, 1, 0, 0, 1, 1, 1,\n",
       "       1, 0, 0, 0, 0, 1, 0, 0, 0, 1, 0], dtype=int64)"
      ]
     },
     "execution_count": 11,
     "metadata": {},
     "output_type": "execute_result"
    }
   ],
   "source": [
    "y_pred"
   ]
  },
  {
   "cell_type": "code",
   "execution_count": 12,
   "id": "a49823c2",
   "metadata": {
    "execution": {
     "iopub.execute_input": "2022-02-12T12:44:08.405518Z",
     "iopub.status.busy": "2022-02-12T12:44:08.404020Z",
     "iopub.status.idle": "2022-02-12T12:44:08.408516Z",
     "shell.execute_reply": "2022-02-12T12:44:08.409264Z"
    },
    "papermill": {
     "duration": 0.062934,
     "end_time": "2022-02-12T12:44:08.410014",
     "exception": false,
     "start_time": "2022-02-12T12:44:08.347080",
     "status": "completed"
    },
    "tags": []
   },
   "outputs": [
    {
     "data": {
      "text/plain": [
       "array([0, 0, 0, 0, 0, 0, 0, 0, 0, 0, 1, 0, 1, 0, 0, 1, 0, 0, 1, 1, 0, 0,\n",
       "       0, 0, 0, 1, 0, 0, 1, 0, 1, 1, 1, 1, 0, 1, 1, 1, 0, 1, 0, 0, 0, 1,\n",
       "       0, 1, 1, 0, 0, 0, 0, 1, 1, 1, 0, 0, 0, 0, 0, 1, 1, 0, 0, 1, 0, 0,\n",
       "       0, 1, 0, 1, 0, 0, 0, 1, 0, 0, 0, 0, 0, 0, 1, 1, 0, 0, 0, 1, 1, 1,\n",
       "       0, 0, 0, 0, 0, 1, 0, 0, 0, 0, 1, 0, 0, 0, 1, 0, 1, 0, 0, 1, 1, 1,\n",
       "       0, 0, 0, 1, 0, 0, 1, 0, 0, 0, 0, 0, 1, 0, 0, 0, 1, 1, 1, 0, 1, 1,\n",
       "       0, 1, 1, 0, 1, 1, 1, 0, 0, 0, 0, 0, 0, 0, 1, 0, 0, 1, 0, 0, 1, 0,\n",
       "       0, 1, 0, 0, 1, 0, 1, 1, 0, 0, 0, 1, 0, 0, 0, 1, 0, 1, 1, 0, 0, 0,\n",
       "       0, 0, 1, 1, 0, 0, 0, 1, 1, 0, 0, 0, 1, 0, 1, 0, 1, 0, 0, 0, 0, 0,\n",
       "       1, 1, 0, 0, 1, 0, 0, 0, 0, 0, 1, 1, 0, 0, 0, 0, 1, 0, 0, 1, 0, 0,\n",
       "       1, 0, 0, 0, 0, 0, 1, 1, 0, 0, 0], dtype=int64)"
      ]
     },
     "execution_count": 12,
     "metadata": {},
     "output_type": "execute_result"
    }
   ],
   "source": [
    "y_test.to_numpy()"
   ]
  },
  {
   "cell_type": "code",
   "execution_count": 13,
   "id": "ae0c4b17",
   "metadata": {
    "execution": {
     "iopub.execute_input": "2022-02-12T12:44:08.548921Z",
     "iopub.status.busy": "2022-02-12T12:44:08.547423Z",
     "iopub.status.idle": "2022-02-12T12:44:08.554919Z",
     "shell.execute_reply": "2022-02-12T12:44:08.556414Z"
    },
    "papermill": {
     "duration": 0.084961,
     "end_time": "2022-02-12T12:44:08.556414",
     "exception": false,
     "start_time": "2022-02-12T12:44:08.471453",
     "status": "completed"
    },
    "tags": []
   },
   "outputs": [],
   "source": [
    "score = metrics.accuracy_score(y_test,y_pred)"
   ]
  },
  {
   "cell_type": "code",
   "execution_count": 14,
   "id": "df664847",
   "metadata": {
    "execution": {
     "iopub.execute_input": "2022-02-12T12:44:08.662382Z",
     "iopub.status.busy": "2022-02-12T12:44:08.660884Z",
     "iopub.status.idle": "2022-02-12T12:44:08.670624Z",
     "shell.execute_reply": "2022-02-12T12:44:08.672879Z"
    },
    "papermill": {
     "duration": 0.06995,
     "end_time": "2022-02-12T12:44:08.673621",
     "exception": false,
     "start_time": "2022-02-12T12:44:08.603671",
     "status": "completed"
    },
    "tags": []
   },
   "outputs": [
    {
     "name": "stdout",
     "output_type": "stream",
     "text": [
      "0.7359307359307359\n"
     ]
    }
   ],
   "source": [
    "print(score)"
   ]
  },
  {
   "cell_type": "code",
   "execution_count": 15,
   "id": "0447bcb7",
   "metadata": {
    "execution": {
     "iopub.execute_input": "2022-02-12T12:44:08.783043Z",
     "iopub.status.busy": "2022-02-12T12:44:08.779298Z",
     "iopub.status.idle": "2022-02-12T12:44:08.792785Z",
     "shell.execute_reply": "2022-02-12T12:44:08.789039Z"
    },
    "papermill": {
     "duration": 0.065215,
     "end_time": "2022-02-12T12:44:08.793533",
     "exception": false,
     "start_time": "2022-02-12T12:44:08.728318",
     "status": "completed"
    },
    "tags": []
   },
   "outputs": [],
   "source": [
    "with open(\"deneme.txt\", \"a\") as f:\n",
    "    f.write(str(calistirma_no) + \", \" + str(score) + \"\\n\")"
   ]
  },
  {
   "cell_type": "code",
   "execution_count": 16,
   "id": "6b5defe4",
   "metadata": {
    "execution": {
     "iopub.execute_input": "2022-02-12T12:44:08.909669Z",
     "iopub.status.busy": "2022-02-12T12:44:08.908169Z",
     "iopub.status.idle": "2022-02-12T12:44:08.920916Z",
     "shell.execute_reply": "2022-02-12T12:44:08.917160Z"
    },
    "papermill": {
     "duration": 0.08018,
     "end_time": "2022-02-12T12:44:08.923163",
     "exception": false,
     "start_time": "2022-02-12T12:44:08.842983",
     "status": "completed"
    },
    "tags": []
   },
   "outputs": [
    {
     "data": {
      "text/plain": [
       "DecisionTreeClassifier()"
      ]
     },
     "execution_count": 16,
     "metadata": {},
     "output_type": "execute_result"
    }
   ],
   "source": [
    "DecisionTreeClassifier()"
   ]
  },
  {
   "cell_type": "code",
   "execution_count": null,
   "id": "0c6057d7",
   "metadata": {
    "papermill": {
     "duration": 0.047951,
     "end_time": "2022-02-12T12:44:09.016808",
     "exception": false,
     "start_time": "2022-02-12T12:44:08.968857",
     "status": "completed"
    },
    "tags": []
   },
   "outputs": [],
   "source": []
  },
  {
   "cell_type": "code",
   "execution_count": null,
   "id": "f389ea42",
   "metadata": {
    "papermill": {
     "duration": 0.06547,
     "end_time": "2022-02-12T12:44:09.141018",
     "exception": false,
     "start_time": "2022-02-12T12:44:09.075548",
     "status": "completed"
    },
    "tags": []
   },
   "outputs": [],
   "source": []
  }
 ],
 "metadata": {
  "celltoolbar": "Tags",
  "kernelspec": {
   "display_name": "Python 3 (ipykernel)",
   "language": "python",
   "name": "python3"
  },
  "language_info": {
   "codemirror_mode": {
    "name": "ipython",
    "version": 3
   },
   "file_extension": ".py",
   "mimetype": "text/x-python",
   "name": "python",
   "nbconvert_exporter": "python",
   "pygments_lexer": "ipython3",
   "version": "3.9.7"
  },
  "papermill": {
   "default_parameters": {},
   "duration": 11.251125,
   "end_time": "2022-02-12T12:44:10.793573",
   "environment_variables": {},
   "exception": null,
   "input_path": "calistirilacak_notebook.ipynb",
   "output_path": "output\\12.ipynb",
   "parameters": {
    "calistirma_no": 12,
    "criterion": "gini",
    "max_depth": 7,
    "splitter": "random"
   },
   "start_time": "2022-02-12T12:43:59.542448",
   "version": "2.3.4"
  },
  "toc": {
   "base_numbering": 1,
   "nav_menu": {},
   "number_sections": true,
   "sideBar": true,
   "skip_h1_title": false,
   "title_cell": "Table of Contents",
   "title_sidebar": "Contents",
   "toc_cell": false,
   "toc_position": {},
   "toc_section_display": true,
   "toc_window_display": false
  },
  "varInspector": {
   "cols": {
    "lenName": 16,
    "lenType": 16,
    "lenVar": 40
   },
   "kernels_config": {
    "python": {
     "delete_cmd_postfix": "",
     "delete_cmd_prefix": "del ",
     "library": "var_list.py",
     "varRefreshCmd": "print(var_dic_list())"
    },
    "r": {
     "delete_cmd_postfix": ") ",
     "delete_cmd_prefix": "rm(",
     "library": "var_list.r",
     "varRefreshCmd": "cat(var_dic_list()) "
    }
   },
   "types_to_exclude": [
    "module",
    "function",
    "builtin_function_or_method",
    "instance",
    "_Feature"
   ],
   "window_display": false
  }
 },
 "nbformat": 4,
 "nbformat_minor": 5
}