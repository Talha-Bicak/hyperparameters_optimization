{
 "cells": [
  {
   "cell_type": "code",
   "execution_count": 1,
   "id": "6816f9ae",
   "metadata": {
    "execution": {
     "iopub.execute_input": "2022-02-12T12:42:31.440447Z",
     "iopub.status.busy": "2022-02-12T12:42:31.433700Z",
     "iopub.status.idle": "2022-02-12T12:42:31.449963Z",
     "shell.execute_reply": "2022-02-12T12:42:31.452201Z"
    },
    "papermill": {
     "duration": 0.059475,
     "end_time": "2022-02-12T12:42:31.452724",
     "exception": false,
     "start_time": "2022-02-12T12:42:31.393249",
     "status": "completed"
    },
    "tags": [
     "parameters"
    ]
   },
   "outputs": [],
   "source": [
    "# parametrelerin girildiği hücre\n",
    "calistirma_no = 1\n",
    "\n",
    "# hiper parametreler\n",
    "criterion='gini'\n",
    "splitter='best'\n",
    "max_depth=None"
   ]
  },
  {
   "cell_type": "code",
   "execution_count": 2,
   "id": "0bcb893b",
   "metadata": {
    "execution": {
     "iopub.execute_input": "2022-02-12T12:42:31.545657Z",
     "iopub.status.busy": "2022-02-12T12:42:31.544157Z",
     "iopub.status.idle": "2022-02-12T12:42:31.549413Z",
     "shell.execute_reply": "2022-02-12T12:42:31.552400Z"
    },
    "papermill": {
     "duration": 0.064708,
     "end_time": "2022-02-12T12:42:31.553148",
     "exception": false,
     "start_time": "2022-02-12T12:42:31.488440",
     "status": "completed"
    },
    "tags": [
     "injected-parameters"
    ]
   },
   "outputs": [],
   "source": [
    "# Parameters\n",
    "calistirma_no = 4\n",
    "criterion = \"gini\"\n",
    "splitter = \"best\"\n",
    "max_depth = 5\n"
   ]
  },
  {
   "cell_type": "code",
   "execution_count": 3,
   "id": "3cc16bbe",
   "metadata": {
    "execution": {
     "iopub.execute_input": "2022-02-12T12:42:31.630873Z",
     "iopub.status.busy": "2022-02-12T12:42:31.628625Z",
     "iopub.status.idle": "2022-02-12T12:42:35.000197Z",
     "shell.execute_reply": "2022-02-12T12:42:35.003506Z"
    },
    "papermill": {
     "duration": 3.417096,
     "end_time": "2022-02-12T12:42:35.004236",
     "exception": false,
     "start_time": "2022-02-12T12:42:31.587140",
     "status": "completed"
    },
    "tags": []
   },
   "outputs": [],
   "source": [
    "# Öğrenmenin gerçekleşeceği hücre\n",
    "import pandas as pd\n",
    "from sklearn.tree import DecisionTreeClassifier\n",
    "from sklearn.model_selection import train_test_split\n",
    "from sklearn import metrics"
   ]
  },
  {
   "cell_type": "code",
   "execution_count": 4,
   "id": "c06f4b1c",
   "metadata": {
    "execution": {
     "iopub.execute_input": "2022-02-12T12:42:35.107748Z",
     "iopub.status.busy": "2022-02-12T12:42:35.106997Z",
     "iopub.status.idle": "2022-02-12T12:42:35.164212Z",
     "shell.execute_reply": "2022-02-12T12:42:35.167213Z"
    },
    "papermill": {
     "duration": 0.124764,
     "end_time": "2022-02-12T12:42:35.167213",
     "exception": false,
     "start_time": "2022-02-12T12:42:35.042449",
     "status": "completed"
    },
    "tags": []
   },
   "outputs": [
    {
     "data": {
      "text/html": [
       "<div>\n",
       "<style scoped>\n",
       "    .dataframe tbody tr th:only-of-type {\n",
       "        vertical-align: middle;\n",
       "    }\n",
       "\n",
       "    .dataframe tbody tr th {\n",
       "        vertical-align: top;\n",
       "    }\n",
       "\n",
       "    .dataframe thead th {\n",
       "        text-align: right;\n",
       "    }\n",
       "</style>\n",
       "<table border=\"1\" class=\"dataframe\">\n",
       "  <thead>\n",
       "    <tr style=\"text-align: right;\">\n",
       "      <th></th>\n",
       "      <th>Pregnancies</th>\n",
       "      <th>Glucose</th>\n",
       "      <th>BloodPressure</th>\n",
       "      <th>SkinThickness</th>\n",
       "      <th>Insulin</th>\n",
       "      <th>BMI</th>\n",
       "      <th>DiabetesPedigreeFunction</th>\n",
       "      <th>Age</th>\n",
       "      <th>Outcome</th>\n",
       "    </tr>\n",
       "  </thead>\n",
       "  <tbody>\n",
       "    <tr>\n",
       "      <th>0</th>\n",
       "      <td>6</td>\n",
       "      <td>148</td>\n",
       "      <td>72</td>\n",
       "      <td>35</td>\n",
       "      <td>0</td>\n",
       "      <td>33.6</td>\n",
       "      <td>0.627</td>\n",
       "      <td>50</td>\n",
       "      <td>1</td>\n",
       "    </tr>\n",
       "    <tr>\n",
       "      <th>1</th>\n",
       "      <td>1</td>\n",
       "      <td>85</td>\n",
       "      <td>66</td>\n",
       "      <td>29</td>\n",
       "      <td>0</td>\n",
       "      <td>26.6</td>\n",
       "      <td>0.351</td>\n",
       "      <td>31</td>\n",
       "      <td>0</td>\n",
       "    </tr>\n",
       "    <tr>\n",
       "      <th>2</th>\n",
       "      <td>8</td>\n",
       "      <td>183</td>\n",
       "      <td>64</td>\n",
       "      <td>0</td>\n",
       "      <td>0</td>\n",
       "      <td>23.3</td>\n",
       "      <td>0.672</td>\n",
       "      <td>32</td>\n",
       "      <td>1</td>\n",
       "    </tr>\n",
       "    <tr>\n",
       "      <th>3</th>\n",
       "      <td>1</td>\n",
       "      <td>89</td>\n",
       "      <td>66</td>\n",
       "      <td>23</td>\n",
       "      <td>94</td>\n",
       "      <td>28.1</td>\n",
       "      <td>0.167</td>\n",
       "      <td>21</td>\n",
       "      <td>0</td>\n",
       "    </tr>\n",
       "    <tr>\n",
       "      <th>4</th>\n",
       "      <td>0</td>\n",
       "      <td>137</td>\n",
       "      <td>40</td>\n",
       "      <td>35</td>\n",
       "      <td>168</td>\n",
       "      <td>43.1</td>\n",
       "      <td>2.288</td>\n",
       "      <td>33</td>\n",
       "      <td>1</td>\n",
       "    </tr>\n",
       "  </tbody>\n",
       "</table>\n",
       "</div>"
      ],
      "text/plain": [
       "   Pregnancies  Glucose  BloodPressure  SkinThickness  Insulin   BMI  \\\n",
       "0            6      148             72             35        0  33.6   \n",
       "1            1       85             66             29        0  26.6   \n",
       "2            8      183             64              0        0  23.3   \n",
       "3            1       89             66             23       94  28.1   \n",
       "4            0      137             40             35      168  43.1   \n",
       "\n",
       "   DiabetesPedigreeFunction  Age  Outcome  \n",
       "0                     0.627   50        1  \n",
       "1                     0.351   31        0  \n",
       "2                     0.672   32        1  \n",
       "3                     0.167   21        0  \n",
       "4                     2.288   33        1  "
      ]
     },
     "execution_count": 4,
     "metadata": {},
     "output_type": "execute_result"
    }
   ],
   "source": [
    "dataset = pd.read_csv(\"diabetes.csv\")\n",
    "dataset.head()"
   ]
  },
  {
   "cell_type": "code",
   "execution_count": 5,
   "id": "ee5885ed",
   "metadata": {
    "execution": {
     "iopub.execute_input": "2022-02-12T12:42:35.288672Z",
     "iopub.status.busy": "2022-02-12T12:42:35.287924Z",
     "iopub.status.idle": "2022-02-12T12:42:35.295415Z",
     "shell.execute_reply": "2022-02-12T12:42:35.297663Z"
    },
    "papermill": {
     "duration": 0.087472,
     "end_time": "2022-02-12T12:42:35.298412",
     "exception": false,
     "start_time": "2022-02-12T12:42:35.210940",
     "status": "completed"
    },
    "tags": []
   },
   "outputs": [
    {
     "data": {
      "text/html": [
       "<div>\n",
       "<style scoped>\n",
       "    .dataframe tbody tr th:only-of-type {\n",
       "        vertical-align: middle;\n",
       "    }\n",
       "\n",
       "    .dataframe tbody tr th {\n",
       "        vertical-align: top;\n",
       "    }\n",
       "\n",
       "    .dataframe thead th {\n",
       "        text-align: right;\n",
       "    }\n",
       "</style>\n",
       "<table border=\"1\" class=\"dataframe\">\n",
       "  <thead>\n",
       "    <tr style=\"text-align: right;\">\n",
       "      <th></th>\n",
       "      <th>Pregnancies</th>\n",
       "      <th>Glucose</th>\n",
       "      <th>BloodPressure</th>\n",
       "      <th>SkinThickness</th>\n",
       "      <th>Insulin</th>\n",
       "      <th>BMI</th>\n",
       "      <th>DiabetesPedigreeFunction</th>\n",
       "      <th>Age</th>\n",
       "    </tr>\n",
       "  </thead>\n",
       "  <tbody>\n",
       "    <tr>\n",
       "      <th>0</th>\n",
       "      <td>6</td>\n",
       "      <td>148</td>\n",
       "      <td>72</td>\n",
       "      <td>35</td>\n",
       "      <td>0</td>\n",
       "      <td>33.6</td>\n",
       "      <td>0.627</td>\n",
       "      <td>50</td>\n",
       "    </tr>\n",
       "    <tr>\n",
       "      <th>1</th>\n",
       "      <td>1</td>\n",
       "      <td>85</td>\n",
       "      <td>66</td>\n",
       "      <td>29</td>\n",
       "      <td>0</td>\n",
       "      <td>26.6</td>\n",
       "      <td>0.351</td>\n",
       "      <td>31</td>\n",
       "    </tr>\n",
       "    <tr>\n",
       "      <th>2</th>\n",
       "      <td>8</td>\n",
       "      <td>183</td>\n",
       "      <td>64</td>\n",
       "      <td>0</td>\n",
       "      <td>0</td>\n",
       "      <td>23.3</td>\n",
       "      <td>0.672</td>\n",
       "      <td>32</td>\n",
       "    </tr>\n",
       "    <tr>\n",
       "      <th>3</th>\n",
       "      <td>1</td>\n",
       "      <td>89</td>\n",
       "      <td>66</td>\n",
       "      <td>23</td>\n",
       "      <td>94</td>\n",
       "      <td>28.1</td>\n",
       "      <td>0.167</td>\n",
       "      <td>21</td>\n",
       "    </tr>\n",
       "    <tr>\n",
       "      <th>4</th>\n",
       "      <td>0</td>\n",
       "      <td>137</td>\n",
       "      <td>40</td>\n",
       "      <td>35</td>\n",
       "      <td>168</td>\n",
       "      <td>43.1</td>\n",
       "      <td>2.288</td>\n",
       "      <td>33</td>\n",
       "    </tr>\n",
       "  </tbody>\n",
       "</table>\n",
       "</div>"
      ],
      "text/plain": [
       "   Pregnancies  Glucose  BloodPressure  SkinThickness  Insulin   BMI  \\\n",
       "0            6      148             72             35        0  33.6   \n",
       "1            1       85             66             29        0  26.6   \n",
       "2            8      183             64              0        0  23.3   \n",
       "3            1       89             66             23       94  28.1   \n",
       "4            0      137             40             35      168  43.1   \n",
       "\n",
       "   DiabetesPedigreeFunction  Age  \n",
       "0                     0.627   50  \n",
       "1                     0.351   31  \n",
       "2                     0.672   32  \n",
       "3                     0.167   21  \n",
       "4                     2.288   33  "
      ]
     },
     "execution_count": 5,
     "metadata": {},
     "output_type": "execute_result"
    }
   ],
   "source": [
    "X, y = dataset.iloc[:,:-1], dataset.iloc[:,-1]\n",
    "X.head()"
   ]
  },
  {
   "cell_type": "code",
   "execution_count": 6,
   "id": "717e989f",
   "metadata": {
    "execution": {
     "iopub.execute_input": "2022-02-12T12:42:35.409397Z",
     "iopub.status.busy": "2022-02-12T12:42:35.407899Z",
     "iopub.status.idle": "2022-02-12T12:42:35.416142Z",
     "shell.execute_reply": "2022-02-12T12:42:35.419655Z"
    },
    "papermill": {
     "duration": 0.071296,
     "end_time": "2022-02-12T12:42:35.420932",
     "exception": false,
     "start_time": "2022-02-12T12:42:35.349636",
     "status": "completed"
    },
    "tags": []
   },
   "outputs": [],
   "source": [
    "X_train, X_test, y_train, y_test = train_test_split(X, y, test_size=0.3, random_state=42)"
   ]
  },
  {
   "cell_type": "code",
   "execution_count": 7,
   "id": "e3b6497d",
   "metadata": {
    "execution": {
     "iopub.execute_input": "2022-02-12T12:42:35.508851Z",
     "iopub.status.busy": "2022-02-12T12:42:35.507352Z",
     "iopub.status.idle": "2022-02-12T12:42:35.512596Z",
     "shell.execute_reply": "2022-02-12T12:42:35.514098Z"
    },
    "papermill": {
     "duration": 0.053199,
     "end_time": "2022-02-12T12:42:35.514846",
     "exception": false,
     "start_time": "2022-02-12T12:42:35.461647",
     "status": "completed"
    },
    "tags": []
   },
   "outputs": [
    {
     "data": {
      "text/plain": [
       "((537, 8), (231, 8), (537,), (231,))"
      ]
     },
     "execution_count": 7,
     "metadata": {},
     "output_type": "execute_result"
    }
   ],
   "source": [
    "X_train.shape, X_test.shape, y_train.shape, y_test.shape"
   ]
  },
  {
   "cell_type": "code",
   "execution_count": 8,
   "id": "d1db563d",
   "metadata": {
    "execution": {
     "iopub.execute_input": "2022-02-12T12:42:35.611838Z",
     "iopub.status.busy": "2022-02-12T12:42:35.610339Z",
     "iopub.status.idle": "2022-02-12T12:42:35.614835Z",
     "shell.execute_reply": "2022-02-12T12:42:35.618376Z"
    },
    "papermill": {
     "duration": 0.054792,
     "end_time": "2022-02-12T12:42:35.620392",
     "exception": false,
     "start_time": "2022-02-12T12:42:35.565600",
     "status": "completed"
    },
    "tags": []
   },
   "outputs": [],
   "source": [
    "model = DecisionTreeClassifier(criterion=criterion, splitter=splitter, max_depth=max_depth)"
   ]
  },
  {
   "cell_type": "code",
   "execution_count": 9,
   "id": "d457d60f",
   "metadata": {
    "execution": {
     "iopub.execute_input": "2022-02-12T12:42:35.722839Z",
     "iopub.status.busy": "2022-02-12T12:42:35.721342Z",
     "iopub.status.idle": "2022-02-12T12:42:35.737826Z",
     "shell.execute_reply": "2022-02-12T12:42:35.740073Z"
    },
    "papermill": {
     "duration": 0.073984,
     "end_time": "2022-02-12T12:42:35.740821",
     "exception": false,
     "start_time": "2022-02-12T12:42:35.666837",
     "status": "completed"
    },
    "tags": []
   },
   "outputs": [
    {
     "data": {
      "text/plain": [
       "DecisionTreeClassifier(max_depth=5)"
      ]
     },
     "execution_count": 9,
     "metadata": {},
     "output_type": "execute_result"
    }
   ],
   "source": [
    "model.fit(X_train, y_train)"
   ]
  },
  {
   "cell_type": "code",
   "execution_count": 10,
   "id": "4fd860e1",
   "metadata": {
    "execution": {
     "iopub.execute_input": "2022-02-12T12:42:35.969698Z",
     "iopub.status.busy": "2022-02-12T12:42:35.965936Z",
     "iopub.status.idle": "2022-02-12T12:42:35.977925Z",
     "shell.execute_reply": "2022-02-12T12:42:35.980924Z"
    },
    "papermill": {
     "duration": 0.164006,
     "end_time": "2022-02-12T12:42:35.984525",
     "exception": false,
     "start_time": "2022-02-12T12:42:35.820519",
     "status": "completed"
    },
    "tags": []
   },
   "outputs": [],
   "source": [
    "y_pred = model.predict(X_test)"
   ]
  },
  {
   "cell_type": "code",
   "execution_count": 11,
   "id": "e6f88a02",
   "metadata": {
    "execution": {
     "iopub.execute_input": "2022-02-12T12:42:36.102623Z",
     "iopub.status.busy": "2022-02-12T12:42:36.101124Z",
     "iopub.status.idle": "2022-02-12T12:42:36.107118Z",
     "shell.execute_reply": "2022-02-12T12:42:36.107866Z"
    },
    "papermill": {
     "duration": 0.075675,
     "end_time": "2022-02-12T12:42:36.108617",
     "exception": false,
     "start_time": "2022-02-12T12:42:36.032942",
     "status": "completed"
    },
    "tags": []
   },
   "outputs": [
    {
     "data": {
      "text/plain": [
       "array([0, 0, 0, 0, 0, 0, 0, 1, 0, 0, 0, 1, 0, 1, 0, 0, 0, 0, 1, 0, 0, 0,\n",
       "       0, 0, 0, 1, 0, 0, 0, 0, 1, 0, 1, 1, 1, 1, 1, 1, 0, 1, 0, 0, 1, 0,\n",
       "       0, 1, 1, 0, 0, 1, 0, 1, 0, 0, 0, 0, 1, 0, 0, 1, 0, 0, 0, 0, 0, 0,\n",
       "       0, 0, 0, 1, 1, 0, 0, 0, 1, 0, 0, 0, 0, 0, 1, 0, 0, 0, 0, 1, 0, 1,\n",
       "       0, 0, 0, 0, 0, 0, 0, 0, 0, 0, 1, 0, 1, 0, 1, 0, 1, 0, 0, 1, 0, 1,\n",
       "       0, 1, 0, 1, 0, 0, 1, 0, 0, 0, 0, 0, 0, 0, 0, 0, 0, 1, 1, 1, 1, 1,\n",
       "       0, 0, 1, 0, 0, 1, 1, 0, 0, 0, 1, 0, 0, 0, 0, 0, 0, 0, 0, 0, 0, 0,\n",
       "       0, 1, 1, 1, 0, 0, 1, 1, 0, 0, 0, 1, 0, 0, 1, 1, 1, 0, 0, 1, 1, 0,\n",
       "       0, 0, 1, 1, 0, 0, 0, 0, 1, 0, 0, 0, 1, 1, 0, 0, 1, 0, 0, 0, 0, 0,\n",
       "       0, 1, 0, 0, 0, 0, 1, 0, 0, 0, 1, 0, 0, 0, 0, 0, 0, 0, 0, 1, 0, 1,\n",
       "       1, 0, 0, 0, 0, 0, 0, 0, 0, 0, 0], dtype=int64)"
      ]
     },
     "execution_count": 11,
     "metadata": {},
     "output_type": "execute_result"
    }
   ],
   "source": [
    "y_pred"
   ]
  },
  {
   "cell_type": "code",
   "execution_count": 12,
   "id": "a49823c2",
   "metadata": {
    "execution": {
     "iopub.execute_input": "2022-02-12T12:42:36.213277Z",
     "iopub.status.busy": "2022-02-12T12:42:36.211029Z",
     "iopub.status.idle": "2022-02-12T12:42:36.218526Z",
     "shell.execute_reply": "2022-02-12T12:42:36.220023Z"
    },
    "papermill": {
     "duration": 0.05972,
     "end_time": "2022-02-12T12:42:36.222282",
     "exception": false,
     "start_time": "2022-02-12T12:42:36.162562",
     "status": "completed"
    },
    "tags": []
   },
   "outputs": [
    {
     "data": {
      "text/plain": [
       "array([0, 0, 0, 0, 0, 0, 0, 0, 0, 0, 1, 0, 1, 0, 0, 1, 0, 0, 1, 1, 0, 0,\n",
       "       0, 0, 0, 1, 0, 0, 1, 0, 1, 1, 1, 1, 0, 1, 1, 1, 0, 1, 0, 0, 0, 1,\n",
       "       0, 1, 1, 0, 0, 0, 0, 1, 1, 1, 0, 0, 0, 0, 0, 1, 1, 0, 0, 1, 0, 0,\n",
       "       0, 1, 0, 1, 0, 0, 0, 1, 0, 0, 0, 0, 0, 0, 1, 1, 0, 0, 0, 1, 1, 1,\n",
       "       0, 0, 0, 0, 0, 1, 0, 0, 0, 0, 1, 0, 0, 0, 1, 0, 1, 0, 0, 1, 1, 1,\n",
       "       0, 0, 0, 1, 0, 0, 1, 0, 0, 0, 0, 0, 1, 0, 0, 0, 1, 1, 1, 0, 1, 1,\n",
       "       0, 1, 1, 0, 1, 1, 1, 0, 0, 0, 0, 0, 0, 0, 1, 0, 0, 1, 0, 0, 1, 0,\n",
       "       0, 1, 0, 0, 1, 0, 1, 1, 0, 0, 0, 1, 0, 0, 0, 1, 0, 1, 1, 0, 0, 0,\n",
       "       0, 0, 1, 1, 0, 0, 0, 1, 1, 0, 0, 0, 1, 0, 1, 0, 1, 0, 0, 0, 0, 0,\n",
       "       1, 1, 0, 0, 1, 0, 0, 0, 0, 0, 1, 1, 0, 0, 0, 0, 1, 0, 0, 1, 0, 0,\n",
       "       1, 0, 0, 0, 0, 0, 1, 1, 0, 0, 0], dtype=int64)"
      ]
     },
     "execution_count": 12,
     "metadata": {},
     "output_type": "execute_result"
    }
   ],
   "source": [
    "y_test.to_numpy()"
   ]
  },
  {
   "cell_type": "code",
   "execution_count": 13,
   "id": "ae0c4b17",
   "metadata": {
    "execution": {
     "iopub.execute_input": "2022-02-12T12:42:36.332863Z",
     "iopub.status.busy": "2022-02-12T12:42:36.327620Z",
     "iopub.status.idle": "2022-02-12T12:42:36.335112Z",
     "shell.execute_reply": "2022-02-12T12:42:36.335860Z"
    },
    "papermill": {
     "duration": 0.061894,
     "end_time": "2022-02-12T12:42:36.336610",
     "exception": false,
     "start_time": "2022-02-12T12:42:36.274716",
     "status": "completed"
    },
    "tags": []
   },
   "outputs": [],
   "source": [
    "score = metrics.accuracy_score(y_test,y_pred)"
   ]
  },
  {
   "cell_type": "code",
   "execution_count": 14,
   "id": "df664847",
   "metadata": {
    "execution": {
     "iopub.execute_input": "2022-02-12T12:42:36.448563Z",
     "iopub.status.busy": "2022-02-12T12:42:36.445577Z",
     "iopub.status.idle": "2022-02-12T12:42:36.457550Z",
     "shell.execute_reply": "2022-02-12T12:42:36.456801Z"
    },
    "papermill": {
     "duration": 0.077477,
     "end_time": "2022-02-12T12:42:36.458299",
     "exception": false,
     "start_time": "2022-02-12T12:42:36.380822",
     "status": "completed"
    },
    "tags": []
   },
   "outputs": [
    {
     "name": "stdout",
     "output_type": "stream",
     "text": [
      "0.7532467532467533\n"
     ]
    }
   ],
   "source": [
    "print(score)"
   ]
  },
  {
   "cell_type": "code",
   "execution_count": 15,
   "id": "0447bcb7",
   "metadata": {
    "execution": {
     "iopub.execute_input": "2022-02-12T12:42:36.571436Z",
     "iopub.status.busy": "2022-02-12T12:42:36.566941Z",
     "iopub.status.idle": "2022-02-12T12:42:36.574435Z",
     "shell.execute_reply": "2022-02-12T12:42:36.572934Z"
    },
    "papermill": {
     "duration": 0.068934,
     "end_time": "2022-02-12T12:42:36.575185",
     "exception": false,
     "start_time": "2022-02-12T12:42:36.506251",
     "status": "completed"
    },
    "tags": []
   },
   "outputs": [],
   "source": [
    "with open(\"deneme.txt\", \"a\") as f:\n",
    "    f.write(str(calistirma_no) + \", \" + str(score) + \"\\n\")"
   ]
  },
  {
   "cell_type": "code",
   "execution_count": 16,
   "id": "6b5defe4",
   "metadata": {
    "execution": {
     "iopub.execute_input": "2022-02-12T12:42:36.694413Z",
     "iopub.status.busy": "2022-02-12T12:42:36.692166Z",
     "iopub.status.idle": "2022-02-12T12:42:36.699658Z",
     "shell.execute_reply": "2022-02-12T12:42:36.700408Z"
    },
    "papermill": {
     "duration": 0.072501,
     "end_time": "2022-02-12T12:42:36.700408",
     "exception": false,
     "start_time": "2022-02-12T12:42:36.627907",
     "status": "completed"
    },
    "tags": []
   },
   "outputs": [
    {
     "data": {
      "text/plain": [
       "DecisionTreeClassifier()"
      ]
     },
     "execution_count": 16,
     "metadata": {},
     "output_type": "execute_result"
    }
   ],
   "source": [
    "DecisionTreeClassifier()"
   ]
  },
  {
   "cell_type": "code",
   "execution_count": null,
   "id": "0c6057d7",
   "metadata": {
    "papermill": {
     "duration": 0.052449,
     "end_time": "2022-02-12T12:42:36.800058",
     "exception": false,
     "start_time": "2022-02-12T12:42:36.747609",
     "status": "completed"
    },
    "tags": []
   },
   "outputs": [],
   "source": []
  },
  {
   "cell_type": "code",
   "execution_count": null,
   "id": "f389ea42",
   "metadata": {
    "papermill": {
     "duration": 0.047199,
     "end_time": "2022-02-12T12:42:36.900457",
     "exception": false,
     "start_time": "2022-02-12T12:42:36.853258",
     "status": "completed"
    },
    "tags": []
   },
   "outputs": [],
   "source": []
  }
 ],
 "metadata": {
  "celltoolbar": "Tags",
  "kernelspec": {
   "display_name": "Python 3 (ipykernel)",
   "language": "python",
   "name": "python3"
  },
  "language_info": {
   "codemirror_mode": {
    "name": "ipython",
    "version": 3
   },
   "file_extension": ".py",
   "mimetype": "text/x-python",
   "name": "python",
   "nbconvert_exporter": "python",
   "pygments_lexer": "ipython3",
   "version": "3.9.7"
  },
  "papermill": {
   "default_parameters": {},
   "duration": 12.208201,
   "end_time": "2022-02-12T12:42:38.668346",
   "environment_variables": {},
   "exception": null,
   "input_path": "calistirilacak_notebook.ipynb",
   "output_path": "output\\4.ipynb",
   "parameters": {
    "calistirma_no": 4,
    "criterion": "gini",
    "max_depth": 5,
    "splitter": "best"
   },
   "start_time": "2022-02-12T12:42:26.460145",
   "version": "2.3.4"
  },
  "toc": {
   "base_numbering": 1,
   "nav_menu": {},
   "number_sections": true,
   "sideBar": true,
   "skip_h1_title": false,
   "title_cell": "Table of Contents",
   "title_sidebar": "Contents",
   "toc_cell": false,
   "toc_position": {},
   "toc_section_display": true,
   "toc_window_display": false
  },
  "varInspector": {
   "cols": {
    "lenName": 16,
    "lenType": 16,
    "lenVar": 40
   },
   "kernels_config": {
    "python": {
     "delete_cmd_postfix": "",
     "delete_cmd_prefix": "del ",
     "library": "var_list.py",
     "varRefreshCmd": "print(var_dic_list())"
    },
    "r": {
     "delete_cmd_postfix": ") ",
     "delete_cmd_prefix": "rm(",
     "library": "var_list.r",
     "varRefreshCmd": "cat(var_dic_list()) "
    }
   },
   "types_to_exclude": [
    "module",
    "function",
    "builtin_function_or_method",
    "instance",
    "_Feature"
   ],
   "window_display": false
  }
 },
 "nbformat": 4,
 "nbformat_minor": 5
}