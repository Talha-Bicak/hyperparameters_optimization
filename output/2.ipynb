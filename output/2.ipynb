{
 "cells": [
  {
   "cell_type": "code",
   "execution_count": 1,
   "id": "6816f9ae",
   "metadata": {
    "execution": {
     "iopub.execute_input": "2022-02-12T12:42:05.204795Z",
     "iopub.status.busy": "2022-02-12T12:42:05.202546Z",
     "iopub.status.idle": "2022-02-12T12:42:05.210038Z",
     "shell.execute_reply": "2022-02-12T12:42:05.212307Z"
    },
    "papermill": {
     "duration": 0.074926,
     "end_time": "2022-02-12T12:42:05.214533",
     "exception": false,
     "start_time": "2022-02-12T12:42:05.139607",
     "status": "completed"
    },
    "tags": [
     "parameters"
    ]
   },
   "outputs": [],
   "source": [
    "# parametrelerin girildiği hücre\n",
    "calistirma_no = 1\n",
    "\n",
    "# hiper parametreler\n",
    "criterion='gini'\n",
    "splitter='best'\n",
    "max_depth=None"
   ]
  },
  {
   "cell_type": "code",
   "execution_count": 2,
   "id": "4076399c",
   "metadata": {
    "execution": {
     "iopub.execute_input": "2022-02-12T12:42:05.323923Z",
     "iopub.status.busy": "2022-02-12T12:42:05.322435Z",
     "iopub.status.idle": "2022-02-12T12:42:05.325422Z",
     "shell.execute_reply": "2022-02-12T12:42:05.326920Z"
    },
    "papermill": {
     "duration": 0.065184,
     "end_time": "2022-02-12T12:42:05.327670",
     "exception": false,
     "start_time": "2022-02-12T12:42:05.262486",
     "status": "completed"
    },
    "tags": [
     "injected-parameters"
    ]
   },
   "outputs": [],
   "source": [
    "# Parameters\n",
    "calistirma_no = 2\n",
    "criterion = \"gini\"\n",
    "splitter = \"best\"\n",
    "max_depth = 3\n"
   ]
  },
  {
   "cell_type": "code",
   "execution_count": 3,
   "id": "3cc16bbe",
   "metadata": {
    "execution": {
     "iopub.execute_input": "2022-02-12T12:42:05.444553Z",
     "iopub.status.busy": "2022-02-12T12:42:05.442312Z",
     "iopub.status.idle": "2022-02-12T12:42:09.209803Z",
     "shell.execute_reply": "2022-02-12T12:42:09.210552Z"
    },
    "papermill": {
     "duration": 3.838666,
     "end_time": "2022-02-12T12:42:09.211301",
     "exception": false,
     "start_time": "2022-02-12T12:42:05.372635",
     "status": "completed"
    },
    "tags": []
   },
   "outputs": [],
   "source": [
    "# Öğrenmenin gerçekleşeceği hücre\n",
    "import pandas as pd\n",
    "from sklearn.tree import DecisionTreeClassifier\n",
    "from sklearn.model_selection import train_test_split\n",
    "from sklearn import metrics"
   ]
  },
  {
   "cell_type": "code",
   "execution_count": 4,
   "id": "c06f4b1c",
   "metadata": {
    "execution": {
     "iopub.execute_input": "2022-02-12T12:42:09.302710Z",
     "iopub.status.busy": "2022-02-12T12:42:09.301214Z",
     "iopub.status.idle": "2022-02-12T12:42:09.357404Z",
     "shell.execute_reply": "2022-02-12T12:42:09.361901Z"
    },
    "papermill": {
     "duration": 0.111634,
     "end_time": "2022-02-12T12:42:09.362649",
     "exception": false,
     "start_time": "2022-02-12T12:42:09.251015",
     "status": "completed"
    },
    "tags": []
   },
   "outputs": [
    {
     "data": {
      "text/html": [
       "<div>\n",
       "<style scoped>\n",
       "    .dataframe tbody tr th:only-of-type {\n",
       "        vertical-align: middle;\n",
       "    }\n",
       "\n",
       "    .dataframe tbody tr th {\n",
       "        vertical-align: top;\n",
       "    }\n",
       "\n",
       "    .dataframe thead th {\n",
       "        text-align: right;\n",
       "    }\n",
       "</style>\n",
       "<table border=\"1\" class=\"dataframe\">\n",
       "  <thead>\n",
       "    <tr style=\"text-align: right;\">\n",
       "      <th></th>\n",
       "      <th>Pregnancies</th>\n",
       "      <th>Glucose</th>\n",
       "      <th>BloodPressure</th>\n",
       "      <th>SkinThickness</th>\n",
       "      <th>Insulin</th>\n",
       "      <th>BMI</th>\n",
       "      <th>DiabetesPedigreeFunction</th>\n",
       "      <th>Age</th>\n",
       "      <th>Outcome</th>\n",
       "    </tr>\n",
       "  </thead>\n",
       "  <tbody>\n",
       "    <tr>\n",
       "      <th>0</th>\n",
       "      <td>6</td>\n",
       "      <td>148</td>\n",
       "      <td>72</td>\n",
       "      <td>35</td>\n",
       "      <td>0</td>\n",
       "      <td>33.6</td>\n",
       "      <td>0.627</td>\n",
       "      <td>50</td>\n",
       "      <td>1</td>\n",
       "    </tr>\n",
       "    <tr>\n",
       "      <th>1</th>\n",
       "      <td>1</td>\n",
       "      <td>85</td>\n",
       "      <td>66</td>\n",
       "      <td>29</td>\n",
       "      <td>0</td>\n",
       "      <td>26.6</td>\n",
       "      <td>0.351</td>\n",
       "      <td>31</td>\n",
       "      <td>0</td>\n",
       "    </tr>\n",
       "    <tr>\n",
       "      <th>2</th>\n",
       "      <td>8</td>\n",
       "      <td>183</td>\n",
       "      <td>64</td>\n",
       "      <td>0</td>\n",
       "      <td>0</td>\n",
       "      <td>23.3</td>\n",
       "      <td>0.672</td>\n",
       "      <td>32</td>\n",
       "      <td>1</td>\n",
       "    </tr>\n",
       "    <tr>\n",
       "      <th>3</th>\n",
       "      <td>1</td>\n",
       "      <td>89</td>\n",
       "      <td>66</td>\n",
       "      <td>23</td>\n",
       "      <td>94</td>\n",
       "      <td>28.1</td>\n",
       "      <td>0.167</td>\n",
       "      <td>21</td>\n",
       "      <td>0</td>\n",
       "    </tr>\n",
       "    <tr>\n",
       "      <th>4</th>\n",
       "      <td>0</td>\n",
       "      <td>137</td>\n",
       "      <td>40</td>\n",
       "      <td>35</td>\n",
       "      <td>168</td>\n",
       "      <td>43.1</td>\n",
       "      <td>2.288</td>\n",
       "      <td>33</td>\n",
       "      <td>1</td>\n",
       "    </tr>\n",
       "  </tbody>\n",
       "</table>\n",
       "</div>"
      ],
      "text/plain": [
       "   Pregnancies  Glucose  BloodPressure  SkinThickness  Insulin   BMI  \\\n",
       "0            6      148             72             35        0  33.6   \n",
       "1            1       85             66             29        0  26.6   \n",
       "2            8      183             64              0        0  23.3   \n",
       "3            1       89             66             23       94  28.1   \n",
       "4            0      137             40             35      168  43.1   \n",
       "\n",
       "   DiabetesPedigreeFunction  Age  Outcome  \n",
       "0                     0.627   50        1  \n",
       "1                     0.351   31        0  \n",
       "2                     0.672   32        1  \n",
       "3                     0.167   21        0  \n",
       "4                     2.288   33        1  "
      ]
     },
     "execution_count": 4,
     "metadata": {},
     "output_type": "execute_result"
    }
   ],
   "source": [
    "dataset = pd.read_csv(\"diabetes.csv\")\n",
    "dataset.head()"
   ]
  },
  {
   "cell_type": "code",
   "execution_count": 5,
   "id": "ee5885ed",
   "metadata": {
    "execution": {
     "iopub.execute_input": "2022-02-12T12:42:09.511659Z",
     "iopub.status.busy": "2022-02-12T12:42:09.509411Z",
     "iopub.status.idle": "2022-02-12T12:42:09.519900Z",
     "shell.execute_reply": "2022-02-12T12:42:09.523218Z"
    },
    "papermill": {
     "duration": 0.104029,
     "end_time": "2022-02-12T12:42:09.523218",
     "exception": false,
     "start_time": "2022-02-12T12:42:09.419189",
     "status": "completed"
    },
    "tags": []
   },
   "outputs": [
    {
     "data": {
      "text/html": [
       "<div>\n",
       "<style scoped>\n",
       "    .dataframe tbody tr th:only-of-type {\n",
       "        vertical-align: middle;\n",
       "    }\n",
       "\n",
       "    .dataframe tbody tr th {\n",
       "        vertical-align: top;\n",
       "    }\n",
       "\n",
       "    .dataframe thead th {\n",
       "        text-align: right;\n",
       "    }\n",
       "</style>\n",
       "<table border=\"1\" class=\"dataframe\">\n",
       "  <thead>\n",
       "    <tr style=\"text-align: right;\">\n",
       "      <th></th>\n",
       "      <th>Pregnancies</th>\n",
       "      <th>Glucose</th>\n",
       "      <th>BloodPressure</th>\n",
       "      <th>SkinThickness</th>\n",
       "      <th>Insulin</th>\n",
       "      <th>BMI</th>\n",
       "      <th>DiabetesPedigreeFunction</th>\n",
       "      <th>Age</th>\n",
       "    </tr>\n",
       "  </thead>\n",
       "  <tbody>\n",
       "    <tr>\n",
       "      <th>0</th>\n",
       "      <td>6</td>\n",
       "      <td>148</td>\n",
       "      <td>72</td>\n",
       "      <td>35</td>\n",
       "      <td>0</td>\n",
       "      <td>33.6</td>\n",
       "      <td>0.627</td>\n",
       "      <td>50</td>\n",
       "    </tr>\n",
       "    <tr>\n",
       "      <th>1</th>\n",
       "      <td>1</td>\n",
       "      <td>85</td>\n",
       "      <td>66</td>\n",
       "      <td>29</td>\n",
       "      <td>0</td>\n",
       "      <td>26.6</td>\n",
       "      <td>0.351</td>\n",
       "      <td>31</td>\n",
       "    </tr>\n",
       "    <tr>\n",
       "      <th>2</th>\n",
       "      <td>8</td>\n",
       "      <td>183</td>\n",
       "      <td>64</td>\n",
       "      <td>0</td>\n",
       "      <td>0</td>\n",
       "      <td>23.3</td>\n",
       "      <td>0.672</td>\n",
       "      <td>32</td>\n",
       "    </tr>\n",
       "    <tr>\n",
       "      <th>3</th>\n",
       "      <td>1</td>\n",
       "      <td>89</td>\n",
       "      <td>66</td>\n",
       "      <td>23</td>\n",
       "      <td>94</td>\n",
       "      <td>28.1</td>\n",
       "      <td>0.167</td>\n",
       "      <td>21</td>\n",
       "    </tr>\n",
       "    <tr>\n",
       "      <th>4</th>\n",
       "      <td>0</td>\n",
       "      <td>137</td>\n",
       "      <td>40</td>\n",
       "      <td>35</td>\n",
       "      <td>168</td>\n",
       "      <td>43.1</td>\n",
       "      <td>2.288</td>\n",
       "      <td>33</td>\n",
       "    </tr>\n",
       "  </tbody>\n",
       "</table>\n",
       "</div>"
      ],
      "text/plain": [
       "   Pregnancies  Glucose  BloodPressure  SkinThickness  Insulin   BMI  \\\n",
       "0            6      148             72             35        0  33.6   \n",
       "1            1       85             66             29        0  26.6   \n",
       "2            8      183             64              0        0  23.3   \n",
       "3            1       89             66             23       94  28.1   \n",
       "4            0      137             40             35      168  43.1   \n",
       "\n",
       "   DiabetesPedigreeFunction  Age  \n",
       "0                     0.627   50  \n",
       "1                     0.351   31  \n",
       "2                     0.672   32  \n",
       "3                     0.167   21  \n",
       "4                     2.288   33  "
      ]
     },
     "execution_count": 5,
     "metadata": {},
     "output_type": "execute_result"
    }
   ],
   "source": [
    "X, y = dataset.iloc[:,:-1], dataset.iloc[:,-1]\n",
    "X.head()"
   ]
  },
  {
   "cell_type": "code",
   "execution_count": 6,
   "id": "717e989f",
   "metadata": {
    "execution": {
     "iopub.execute_input": "2022-02-12T12:42:09.628853Z",
     "iopub.status.busy": "2022-02-12T12:42:09.626604Z",
     "iopub.status.idle": "2022-02-12T12:42:09.635597Z",
     "shell.execute_reply": "2022-02-12T12:42:09.637093Z"
    },
    "papermill": {
     "duration": 0.068188,
     "end_time": "2022-02-12T12:42:09.637849",
     "exception": false,
     "start_time": "2022-02-12T12:42:09.569661",
     "status": "completed"
    },
    "tags": []
   },
   "outputs": [],
   "source": [
    "X_train, X_test, y_train, y_test = train_test_split(X, y, test_size=0.3, random_state=42)"
   ]
  },
  {
   "cell_type": "code",
   "execution_count": 7,
   "id": "e3b6497d",
   "metadata": {
    "execution": {
     "iopub.execute_input": "2022-02-12T12:42:09.748008Z",
     "iopub.status.busy": "2022-02-12T12:42:09.743487Z",
     "iopub.status.idle": "2022-02-12T12:42:09.752480Z",
     "shell.execute_reply": "2022-02-12T12:42:09.753228Z"
    },
    "papermill": {
     "duration": 0.065178,
     "end_time": "2022-02-12T12:42:09.753979",
     "exception": false,
     "start_time": "2022-02-12T12:42:09.688801",
     "status": "completed"
    },
    "tags": []
   },
   "outputs": [
    {
     "data": {
      "text/plain": [
       "((537, 8), (231, 8), (537,), (231,))"
      ]
     },
     "execution_count": 7,
     "metadata": {},
     "output_type": "execute_result"
    }
   ],
   "source": [
    "X_train.shape, X_test.shape, y_train.shape, y_test.shape"
   ]
  },
  {
   "cell_type": "code",
   "execution_count": 8,
   "id": "d1db563d",
   "metadata": {
    "execution": {
     "iopub.execute_input": "2022-02-12T12:42:09.900830Z",
     "iopub.status.busy": "2022-02-12T12:42:09.899331Z",
     "iopub.status.idle": "2022-02-12T12:42:09.902328Z",
     "shell.execute_reply": "2022-02-12T12:42:09.903079Z"
    },
    "papermill": {
     "duration": 0.091411,
     "end_time": "2022-02-12T12:42:09.903079",
     "exception": false,
     "start_time": "2022-02-12T12:42:09.811668",
     "status": "completed"
    },
    "tags": []
   },
   "outputs": [],
   "source": [
    "model = DecisionTreeClassifier(criterion=criterion, splitter=splitter, max_depth=max_depth)"
   ]
  },
  {
   "cell_type": "code",
   "execution_count": 9,
   "id": "d457d60f",
   "metadata": {
    "execution": {
     "iopub.execute_input": "2022-02-12T12:42:10.039240Z",
     "iopub.status.busy": "2022-02-12T12:42:10.037741Z",
     "iopub.status.idle": "2022-02-12T12:42:10.055723Z",
     "shell.execute_reply": "2022-02-12T12:42:10.057981Z"
    },
    "papermill": {
     "duration": 0.0987,
     "end_time": "2022-02-12T12:42:10.058719",
     "exception": false,
     "start_time": "2022-02-12T12:42:09.960019",
     "status": "completed"
    },
    "tags": []
   },
   "outputs": [
    {
     "data": {
      "text/plain": [
       "DecisionTreeClassifier(max_depth=3)"
      ]
     },
     "execution_count": 9,
     "metadata": {},
     "output_type": "execute_result"
    }
   ],
   "source": [
    "model.fit(X_train, y_train)"
   ]
  },
  {
   "cell_type": "code",
   "execution_count": 10,
   "id": "4fd860e1",
   "metadata": {
    "execution": {
     "iopub.execute_input": "2022-02-12T12:42:10.231709Z",
     "iopub.status.busy": "2022-02-12T12:42:10.229461Z",
     "iopub.status.idle": "2022-02-12T12:42:10.233954Z",
     "shell.execute_reply": "2022-02-12T12:42:10.235453Z"
    },
    "papermill": {
     "duration": 0.132193,
     "end_time": "2022-02-12T12:42:10.235453",
     "exception": false,
     "start_time": "2022-02-12T12:42:10.103260",
     "status": "completed"
    },
    "tags": []
   },
   "outputs": [],
   "source": [
    "y_pred = model.predict(X_test)"
   ]
  },
  {
   "cell_type": "code",
   "execution_count": 11,
   "id": "e6f88a02",
   "metadata": {
    "execution": {
     "iopub.execute_input": "2022-02-12T12:42:10.351588Z",
     "iopub.status.busy": "2022-02-12T12:42:10.350089Z",
     "iopub.status.idle": "2022-02-12T12:42:10.362076Z",
     "shell.execute_reply": "2022-02-12T12:42:10.363577Z"
    },
    "papermill": {
     "duration": 0.077928,
     "end_time": "2022-02-12T12:42:10.365079",
     "exception": false,
     "start_time": "2022-02-12T12:42:10.287151",
     "status": "completed"
    },
    "tags": []
   },
   "outputs": [
    {
     "data": {
      "text/plain": [
       "array([0, 0, 0, 0, 0, 0, 0, 0, 0, 0, 0, 1, 0, 0, 0, 0, 0, 0, 0, 0, 0, 0,\n",
       "       0, 0, 0, 1, 0, 0, 0, 0, 1, 0, 1, 1, 0, 0, 1, 0, 0, 0, 0, 0, 0, 0,\n",
       "       0, 1, 0, 0, 0, 1, 0, 0, 0, 0, 0, 0, 1, 0, 0, 1, 0, 0, 0, 0, 0, 0,\n",
       "       0, 0, 0, 1, 0, 0, 0, 0, 0, 0, 0, 0, 0, 0, 1, 0, 0, 0, 0, 1, 0, 0,\n",
       "       0, 0, 0, 0, 0, 0, 0, 0, 0, 0, 1, 0, 1, 0, 0, 0, 1, 0, 0, 1, 0, 0,\n",
       "       0, 1, 0, 1, 0, 0, 1, 0, 0, 0, 0, 0, 0, 0, 0, 0, 0, 1, 0, 0, 1, 0,\n",
       "       0, 0, 1, 0, 0, 1, 0, 0, 0, 0, 0, 0, 0, 0, 0, 0, 0, 1, 0, 0, 0, 0,\n",
       "       0, 0, 0, 1, 0, 0, 0, 0, 0, 0, 0, 1, 0, 0, 1, 0, 0, 0, 0, 0, 1, 0,\n",
       "       0, 0, 0, 0, 0, 0, 0, 0, 0, 0, 0, 0, 1, 0, 0, 0, 0, 0, 0, 0, 0, 0,\n",
       "       0, 1, 0, 0, 0, 0, 0, 0, 0, 0, 1, 0, 0, 0, 0, 0, 0, 0, 1, 0, 0, 1,\n",
       "       1, 0, 0, 0, 0, 0, 0, 0, 0, 0, 0], dtype=int64)"
      ]
     },
     "execution_count": 11,
     "metadata": {},
     "output_type": "execute_result"
    }
   ],
   "source": [
    "y_pred"
   ]
  },
  {
   "cell_type": "code",
   "execution_count": 12,
   "id": "a49823c2",
   "metadata": {
    "execution": {
     "iopub.execute_input": "2022-02-12T12:42:10.510701Z",
     "iopub.status.busy": "2022-02-12T12:42:10.509201Z",
     "iopub.status.idle": "2022-02-12T12:42:10.519691Z",
     "shell.execute_reply": "2022-02-12T12:42:10.520440Z"
    },
    "papermill": {
     "duration": 0.089928,
     "end_time": "2022-02-12T12:42:10.522707",
     "exception": false,
     "start_time": "2022-02-12T12:42:10.432779",
     "status": "completed"
    },
    "tags": []
   },
   "outputs": [
    {
     "data": {
      "text/plain": [
       "array([0, 0, 0, 0, 0, 0, 0, 0, 0, 0, 1, 0, 1, 0, 0, 1, 0, 0, 1, 1, 0, 0,\n",
       "       0, 0, 0, 1, 0, 0, 1, 0, 1, 1, 1, 1, 0, 1, 1, 1, 0, 1, 0, 0, 0, 1,\n",
       "       0, 1, 1, 0, 0, 0, 0, 1, 1, 1, 0, 0, 0, 0, 0, 1, 1, 0, 0, 1, 0, 0,\n",
       "       0, 1, 0, 1, 0, 0, 0, 1, 0, 0, 0, 0, 0, 0, 1, 1, 0, 0, 0, 1, 1, 1,\n",
       "       0, 0, 0, 0, 0, 1, 0, 0, 0, 0, 1, 0, 0, 0, 1, 0, 1, 0, 0, 1, 1, 1,\n",
       "       0, 0, 0, 1, 0, 0, 1, 0, 0, 0, 0, 0, 1, 0, 0, 0, 1, 1, 1, 0, 1, 1,\n",
       "       0, 1, 1, 0, 1, 1, 1, 0, 0, 0, 0, 0, 0, 0, 1, 0, 0, 1, 0, 0, 1, 0,\n",
       "       0, 1, 0, 0, 1, 0, 1, 1, 0, 0, 0, 1, 0, 0, 0, 1, 0, 1, 1, 0, 0, 0,\n",
       "       0, 0, 1, 1, 0, 0, 0, 1, 1, 0, 0, 0, 1, 0, 1, 0, 1, 0, 0, 0, 0, 0,\n",
       "       1, 1, 0, 0, 1, 0, 0, 0, 0, 0, 1, 1, 0, 0, 0, 0, 1, 0, 0, 1, 0, 0,\n",
       "       1, 0, 0, 0, 0, 0, 1, 1, 0, 0, 0], dtype=int64)"
      ]
     },
     "execution_count": 12,
     "metadata": {},
     "output_type": "execute_result"
    }
   ],
   "source": [
    "y_test.to_numpy()"
   ]
  },
  {
   "cell_type": "code",
   "execution_count": 13,
   "id": "ae0c4b17",
   "metadata": {
    "execution": {
     "iopub.execute_input": "2022-02-12T12:42:10.654556Z",
     "iopub.status.busy": "2022-02-12T12:42:10.650827Z",
     "iopub.status.idle": "2022-02-12T12:42:10.656821Z",
     "shell.execute_reply": "2022-02-12T12:42:10.659051Z"
    },
    "papermill": {
     "duration": 0.085412,
     "end_time": "2022-02-12T12:42:10.659800",
     "exception": false,
     "start_time": "2022-02-12T12:42:10.574388",
     "status": "completed"
    },
    "tags": []
   },
   "outputs": [],
   "source": [
    "score = metrics.accuracy_score(y_test,y_pred)"
   ]
  },
  {
   "cell_type": "code",
   "execution_count": 14,
   "id": "df664847",
   "metadata": {
    "execution": {
     "iopub.execute_input": "2022-02-12T12:42:10.814446Z",
     "iopub.status.busy": "2022-02-12T12:42:10.812199Z",
     "iopub.status.idle": "2022-02-12T12:42:10.819691Z",
     "shell.execute_reply": "2022-02-12T12:42:10.821191Z"
    },
    "papermill": {
     "duration": 0.109392,
     "end_time": "2022-02-12T12:42:10.821191",
     "exception": false,
     "start_time": "2022-02-12T12:42:10.711799",
     "status": "completed"
    },
    "tags": []
   },
   "outputs": [
    {
     "name": "stdout",
     "output_type": "stream",
     "text": [
      "0.7186147186147186\n"
     ]
    }
   ],
   "source": [
    "print(score)"
   ]
  },
  {
   "cell_type": "code",
   "execution_count": 15,
   "id": "0447bcb7",
   "metadata": {
    "execution": {
     "iopub.execute_input": "2022-02-12T12:42:10.999787Z",
     "iopub.status.busy": "2022-02-12T12:42:10.997548Z",
     "iopub.status.idle": "2022-02-12T12:42:11.005032Z",
     "shell.execute_reply": "2022-02-12T12:42:11.004284Z"
    },
    "papermill": {
     "duration": 0.104142,
     "end_time": "2022-02-12T12:42:11.005780",
     "exception": false,
     "start_time": "2022-02-12T12:42:10.901638",
     "status": "completed"
    },
    "tags": []
   },
   "outputs": [],
   "source": [
    "with open(\"deneme.txt\", \"a\") as f:\n",
    "    f.write(str(calistirma_no) + \", \" + str(score) + \"\\n\")"
   ]
  },
  {
   "cell_type": "code",
   "execution_count": 16,
   "id": "6b5defe4",
   "metadata": {
    "execution": {
     "iopub.execute_input": "2022-02-12T12:42:11.132502Z",
     "iopub.status.busy": "2022-02-12T12:42:11.131003Z",
     "iopub.status.idle": "2022-02-12T12:42:11.138500Z",
     "shell.execute_reply": "2022-02-12T12:42:11.140744Z"
    },
    "papermill": {
     "duration": 0.085411,
     "end_time": "2022-02-12T12:42:11.141494",
     "exception": false,
     "start_time": "2022-02-12T12:42:11.056083",
     "status": "completed"
    },
    "tags": []
   },
   "outputs": [
    {
     "data": {
      "text/plain": [
       "DecisionTreeClassifier()"
      ]
     },
     "execution_count": 16,
     "metadata": {},
     "output_type": "execute_result"
    }
   ],
   "source": [
    "DecisionTreeClassifier()"
   ]
  },
  {
   "cell_type": "code",
   "execution_count": null,
   "id": "0c6057d7",
   "metadata": {
    "papermill": {
     "duration": 0.06743,
     "end_time": "2022-02-12T12:42:11.280857",
     "exception": false,
     "start_time": "2022-02-12T12:42:11.213427",
     "status": "completed"
    },
    "tags": []
   },
   "outputs": [],
   "source": []
  },
  {
   "cell_type": "code",
   "execution_count": null,
   "id": "f389ea42",
   "metadata": {
    "papermill": {
     "duration": 0.074924,
     "end_time": "2022-02-12T12:42:11.465477",
     "exception": false,
     "start_time": "2022-02-12T12:42:11.390553",
     "status": "completed"
    },
    "tags": []
   },
   "outputs": [],
   "source": []
  }
 ],
 "metadata": {
  "celltoolbar": "Tags",
  "kernelspec": {
   "display_name": "Python 3 (ipykernel)",
   "language": "python",
   "name": "python3"
  },
  "language_info": {
   "codemirror_mode": {
    "name": "ipython",
    "version": 3
   },
   "file_extension": ".py",
   "mimetype": "text/x-python",
   "name": "python",
   "nbconvert_exporter": "python",
   "pygments_lexer": "ipython3",
   "version": "3.9.7"
  },
  "papermill": {
   "default_parameters": {},
   "duration": 12.127187,
   "end_time": "2022-02-12T12:42:12.566556",
   "environment_variables": {},
   "exception": null,
   "input_path": "calistirilacak_notebook.ipynb",
   "output_path": "output\\2.ipynb",
   "parameters": {
    "calistirma_no": 2,
    "criterion": "gini",
    "max_depth": 3,
    "splitter": "best"
   },
   "start_time": "2022-02-12T12:42:00.439369",
   "version": "2.3.4"
  },
  "toc": {
   "base_numbering": 1,
   "nav_menu": {},
   "number_sections": true,
   "sideBar": true,
   "skip_h1_title": false,
   "title_cell": "Table of Contents",
   "title_sidebar": "Contents",
   "toc_cell": false,
   "toc_position": {},
   "toc_section_display": true,
   "toc_window_display": false
  },
  "varInspector": {
   "cols": {
    "lenName": 16,
    "lenType": 16,
    "lenVar": 40
   },
   "kernels_config": {
    "python": {
     "delete_cmd_postfix": "",
     "delete_cmd_prefix": "del ",
     "library": "var_list.py",
     "varRefreshCmd": "print(var_dic_list())"
    },
    "r": {
     "delete_cmd_postfix": ") ",
     "delete_cmd_prefix": "rm(",
     "library": "var_list.r",
     "varRefreshCmd": "cat(var_dic_list()) "
    }
   },
   "types_to_exclude": [
    "module",
    "function",
    "builtin_function_or_method",
    "instance",
    "_Feature"
   ],
   "window_display": false
  }
 },
 "nbformat": 4,
 "nbformat_minor": 5
}