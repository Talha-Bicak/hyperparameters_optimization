{
 "cells": [
  {
   "cell_type": "code",
   "execution_count": 1,
   "id": "6816f9ae",
   "metadata": {
    "execution": {
     "iopub.execute_input": "2022-02-12T12:43:42.015587Z",
     "iopub.status.busy": "2022-02-12T12:43:42.014094Z",
     "iopub.status.idle": "2022-02-12T12:43:42.023079Z",
     "shell.execute_reply": "2022-02-12T12:43:42.023829Z"
    },
    "papermill": {
     "duration": 0.060966,
     "end_time": "2022-02-12T12:43:42.025328",
     "exception": false,
     "start_time": "2022-02-12T12:43:41.964362",
     "status": "completed"
    },
    "tags": [
     "parameters"
    ]
   },
   "outputs": [],
   "source": [
    "# parametrelerin girildiği hücre\n",
    "calistirma_no = 1\n",
    "\n",
    "# hiper parametreler\n",
    "criterion='gini'\n",
    "splitter='best'\n",
    "max_depth=None"
   ]
  },
  {
   "cell_type": "code",
   "execution_count": 2,
   "id": "0ed5e8fa",
   "metadata": {
    "execution": {
     "iopub.execute_input": "2022-02-12T12:43:42.105530Z",
     "iopub.status.busy": "2022-02-12T12:43:42.103280Z",
     "iopub.status.idle": "2022-02-12T12:43:42.107776Z",
     "shell.execute_reply": "2022-02-12T12:43:42.109275Z"
    },
    "papermill": {
     "duration": 0.048229,
     "end_time": "2022-02-12T12:43:42.110029",
     "exception": false,
     "start_time": "2022-02-12T12:43:42.061800",
     "status": "completed"
    },
    "tags": [
     "injected-parameters"
    ]
   },
   "outputs": [],
   "source": [
    "# Parameters\n",
    "calistirma_no = 10\n",
    "criterion = \"gini\"\n",
    "splitter = \"random\"\n",
    "max_depth = 5\n"
   ]
  },
  {
   "cell_type": "code",
   "execution_count": 3,
   "id": "3cc16bbe",
   "metadata": {
    "execution": {
     "iopub.execute_input": "2022-02-12T12:43:42.194029Z",
     "iopub.status.busy": "2022-02-12T12:43:42.191781Z",
     "iopub.status.idle": "2022-02-12T12:43:45.313080Z",
     "shell.execute_reply": "2022-02-12T12:43:45.314594Z"
    },
    "papermill": {
     "duration": 3.174319,
     "end_time": "2022-02-12T12:43:45.316079",
     "exception": false,
     "start_time": "2022-02-12T12:43:42.141760",
     "status": "completed"
    },
    "tags": []
   },
   "outputs": [],
   "source": [
    "# Öğrenmenin gerçekleşeceği hücre\n",
    "import pandas as pd\n",
    "from sklearn.tree import DecisionTreeClassifier\n",
    "from sklearn.model_selection import train_test_split\n",
    "from sklearn import metrics"
   ]
  },
  {
   "cell_type": "code",
   "execution_count": 4,
   "id": "c06f4b1c",
   "metadata": {
    "execution": {
     "iopub.execute_input": "2022-02-12T12:43:45.398492Z",
     "iopub.status.busy": "2022-02-12T12:43:45.394001Z",
     "iopub.status.idle": "2022-02-12T12:43:45.459930Z",
     "shell.execute_reply": "2022-02-12T12:43:45.459181Z"
    },
    "papermill": {
     "duration": 0.108634,
     "end_time": "2022-02-12T12:43:45.460679",
     "exception": false,
     "start_time": "2022-02-12T12:43:45.352045",
     "status": "completed"
    },
    "tags": []
   },
   "outputs": [
    {
     "data": {
      "text/html": [
       "<div>\n",
       "<style scoped>\n",
       "    .dataframe tbody tr th:only-of-type {\n",
       "        vertical-align: middle;\n",
       "    }\n",
       "\n",
       "    .dataframe tbody tr th {\n",
       "        vertical-align: top;\n",
       "    }\n",
       "\n",
       "    .dataframe thead th {\n",
       "        text-align: right;\n",
       "    }\n",
       "</style>\n",
       "<table border=\"1\" class=\"dataframe\">\n",
       "  <thead>\n",
       "    <tr style=\"text-align: right;\">\n",
       "      <th></th>\n",
       "      <th>Pregnancies</th>\n",
       "      <th>Glucose</th>\n",
       "      <th>BloodPressure</th>\n",
       "      <th>SkinThickness</th>\n",
       "      <th>Insulin</th>\n",
       "      <th>BMI</th>\n",
       "      <th>DiabetesPedigreeFunction</th>\n",
       "      <th>Age</th>\n",
       "      <th>Outcome</th>\n",
       "    </tr>\n",
       "  </thead>\n",
       "  <tbody>\n",
       "    <tr>\n",
       "      <th>0</th>\n",
       "      <td>6</td>\n",
       "      <td>148</td>\n",
       "      <td>72</td>\n",
       "      <td>35</td>\n",
       "      <td>0</td>\n",
       "      <td>33.6</td>\n",
       "      <td>0.627</td>\n",
       "      <td>50</td>\n",
       "      <td>1</td>\n",
       "    </tr>\n",
       "    <tr>\n",
       "      <th>1</th>\n",
       "      <td>1</td>\n",
       "      <td>85</td>\n",
       "      <td>66</td>\n",
       "      <td>29</td>\n",
       "      <td>0</td>\n",
       "      <td>26.6</td>\n",
       "      <td>0.351</td>\n",
       "      <td>31</td>\n",
       "      <td>0</td>\n",
       "    </tr>\n",
       "    <tr>\n",
       "      <th>2</th>\n",
       "      <td>8</td>\n",
       "      <td>183</td>\n",
       "      <td>64</td>\n",
       "      <td>0</td>\n",
       "      <td>0</td>\n",
       "      <td>23.3</td>\n",
       "      <td>0.672</td>\n",
       "      <td>32</td>\n",
       "      <td>1</td>\n",
       "    </tr>\n",
       "    <tr>\n",
       "      <th>3</th>\n",
       "      <td>1</td>\n",
       "      <td>89</td>\n",
       "      <td>66</td>\n",
       "      <td>23</td>\n",
       "      <td>94</td>\n",
       "      <td>28.1</td>\n",
       "      <td>0.167</td>\n",
       "      <td>21</td>\n",
       "      <td>0</td>\n",
       "    </tr>\n",
       "    <tr>\n",
       "      <th>4</th>\n",
       "      <td>0</td>\n",
       "      <td>137</td>\n",
       "      <td>40</td>\n",
       "      <td>35</td>\n",
       "      <td>168</td>\n",
       "      <td>43.1</td>\n",
       "      <td>2.288</td>\n",
       "      <td>33</td>\n",
       "      <td>1</td>\n",
       "    </tr>\n",
       "  </tbody>\n",
       "</table>\n",
       "</div>"
      ],
      "text/plain": [
       "   Pregnancies  Glucose  BloodPressure  SkinThickness  Insulin   BMI  \\\n",
       "0            6      148             72             35        0  33.6   \n",
       "1            1       85             66             29        0  26.6   \n",
       "2            8      183             64              0        0  23.3   \n",
       "3            1       89             66             23       94  28.1   \n",
       "4            0      137             40             35      168  43.1   \n",
       "\n",
       "   DiabetesPedigreeFunction  Age  Outcome  \n",
       "0                     0.627   50        1  \n",
       "1                     0.351   31        0  \n",
       "2                     0.672   32        1  \n",
       "3                     0.167   21        0  \n",
       "4                     2.288   33        1  "
      ]
     },
     "execution_count": 4,
     "metadata": {},
     "output_type": "execute_result"
    }
   ],
   "source": [
    "dataset = pd.read_csv(\"diabetes.csv\")\n",
    "dataset.head()"
   ]
  },
  {
   "cell_type": "code",
   "execution_count": 5,
   "id": "ee5885ed",
   "metadata": {
    "execution": {
     "iopub.execute_input": "2022-02-12T12:43:45.570858Z",
     "iopub.status.busy": "2022-02-12T12:43:45.570109Z",
     "iopub.status.idle": "2022-02-12T12:43:45.574604Z",
     "shell.execute_reply": "2022-02-12T12:43:45.575353Z"
    },
    "papermill": {
     "duration": 0.075945,
     "end_time": "2022-02-12T12:43:45.576103",
     "exception": false,
     "start_time": "2022-02-12T12:43:45.500158",
     "status": "completed"
    },
    "tags": []
   },
   "outputs": [
    {
     "data": {
      "text/html": [
       "<div>\n",
       "<style scoped>\n",
       "    .dataframe tbody tr th:only-of-type {\n",
       "        vertical-align: middle;\n",
       "    }\n",
       "\n",
       "    .dataframe tbody tr th {\n",
       "        vertical-align: top;\n",
       "    }\n",
       "\n",
       "    .dataframe thead th {\n",
       "        text-align: right;\n",
       "    }\n",
       "</style>\n",
       "<table border=\"1\" class=\"dataframe\">\n",
       "  <thead>\n",
       "    <tr style=\"text-align: right;\">\n",
       "      <th></th>\n",
       "      <th>Pregnancies</th>\n",
       "      <th>Glucose</th>\n",
       "      <th>BloodPressure</th>\n",
       "      <th>SkinThickness</th>\n",
       "      <th>Insulin</th>\n",
       "      <th>BMI</th>\n",
       "      <th>DiabetesPedigreeFunction</th>\n",
       "      <th>Age</th>\n",
       "    </tr>\n",
       "  </thead>\n",
       "  <tbody>\n",
       "    <tr>\n",
       "      <th>0</th>\n",
       "      <td>6</td>\n",
       "      <td>148</td>\n",
       "      <td>72</td>\n",
       "      <td>35</td>\n",
       "      <td>0</td>\n",
       "      <td>33.6</td>\n",
       "      <td>0.627</td>\n",
       "      <td>50</td>\n",
       "    </tr>\n",
       "    <tr>\n",
       "      <th>1</th>\n",
       "      <td>1</td>\n",
       "      <td>85</td>\n",
       "      <td>66</td>\n",
       "      <td>29</td>\n",
       "      <td>0</td>\n",
       "      <td>26.6</td>\n",
       "      <td>0.351</td>\n",
       "      <td>31</td>\n",
       "    </tr>\n",
       "    <tr>\n",
       "      <th>2</th>\n",
       "      <td>8</td>\n",
       "      <td>183</td>\n",
       "      <td>64</td>\n",
       "      <td>0</td>\n",
       "      <td>0</td>\n",
       "      <td>23.3</td>\n",
       "      <td>0.672</td>\n",
       "      <td>32</td>\n",
       "    </tr>\n",
       "    <tr>\n",
       "      <th>3</th>\n",
       "      <td>1</td>\n",
       "      <td>89</td>\n",
       "      <td>66</td>\n",
       "      <td>23</td>\n",
       "      <td>94</td>\n",
       "      <td>28.1</td>\n",
       "      <td>0.167</td>\n",
       "      <td>21</td>\n",
       "    </tr>\n",
       "    <tr>\n",
       "      <th>4</th>\n",
       "      <td>0</td>\n",
       "      <td>137</td>\n",
       "      <td>40</td>\n",
       "      <td>35</td>\n",
       "      <td>168</td>\n",
       "      <td>43.1</td>\n",
       "      <td>2.288</td>\n",
       "      <td>33</td>\n",
       "    </tr>\n",
       "  </tbody>\n",
       "</table>\n",
       "</div>"
      ],
      "text/plain": [
       "   Pregnancies  Glucose  BloodPressure  SkinThickness  Insulin   BMI  \\\n",
       "0            6      148             72             35        0  33.6   \n",
       "1            1       85             66             29        0  26.6   \n",
       "2            8      183             64              0        0  23.3   \n",
       "3            1       89             66             23       94  28.1   \n",
       "4            0      137             40             35      168  43.1   \n",
       "\n",
       "   DiabetesPedigreeFunction  Age  \n",
       "0                     0.627   50  \n",
       "1                     0.351   31  \n",
       "2                     0.672   32  \n",
       "3                     0.167   21  \n",
       "4                     2.288   33  "
      ]
     },
     "execution_count": 5,
     "metadata": {},
     "output_type": "execute_result"
    }
   ],
   "source": [
    "X, y = dataset.iloc[:,:-1], dataset.iloc[:,-1]\n",
    "X.head()"
   ]
  },
  {
   "cell_type": "code",
   "execution_count": 6,
   "id": "717e989f",
   "metadata": {
    "execution": {
     "iopub.execute_input": "2022-02-12T12:43:45.667785Z",
     "iopub.status.busy": "2022-02-12T12:43:45.666286Z",
     "iopub.status.idle": "2022-02-12T12:43:45.673781Z",
     "shell.execute_reply": "2022-02-12T12:43:45.674528Z"
    },
    "papermill": {
     "duration": 0.057694,
     "end_time": "2022-02-12T12:43:45.675278",
     "exception": false,
     "start_time": "2022-02-12T12:43:45.617584",
     "status": "completed"
    },
    "tags": []
   },
   "outputs": [],
   "source": [
    "X_train, X_test, y_train, y_test = train_test_split(X, y, test_size=0.3, random_state=42)"
   ]
  },
  {
   "cell_type": "code",
   "execution_count": 7,
   "id": "e3b6497d",
   "metadata": {
    "execution": {
     "iopub.execute_input": "2022-02-12T12:43:45.776474Z",
     "iopub.status.busy": "2022-02-12T12:43:45.774973Z",
     "iopub.status.idle": "2022-02-12T12:43:45.785468Z",
     "shell.execute_reply": "2022-02-12T12:43:45.783214Z"
    },
    "papermill": {
     "duration": 0.06645,
     "end_time": "2022-02-12T12:43:45.786965",
     "exception": false,
     "start_time": "2022-02-12T12:43:45.720515",
     "status": "completed"
    },
    "tags": []
   },
   "outputs": [
    {
     "data": {
      "text/plain": [
       "((537, 8), (231, 8), (537,), (231,))"
      ]
     },
     "execution_count": 7,
     "metadata": {},
     "output_type": "execute_result"
    }
   ],
   "source": [
    "X_train.shape, X_test.shape, y_train.shape, y_test.shape"
   ]
  },
  {
   "cell_type": "code",
   "execution_count": 8,
   "id": "d1db563d",
   "metadata": {
    "execution": {
     "iopub.execute_input": "2022-02-12T12:43:45.874662Z",
     "iopub.status.busy": "2022-02-12T12:43:45.873159Z",
     "iopub.status.idle": "2022-02-12T12:43:45.877653Z",
     "shell.execute_reply": "2022-02-12T12:43:45.880651Z"
    },
    "papermill": {
     "duration": 0.05371,
     "end_time": "2022-02-12T12:43:45.881403",
     "exception": false,
     "start_time": "2022-02-12T12:43:45.827693",
     "status": "completed"
    },
    "tags": []
   },
   "outputs": [],
   "source": [
    "model = DecisionTreeClassifier(criterion=criterion, splitter=splitter, max_depth=max_depth)"
   ]
  },
  {
   "cell_type": "code",
   "execution_count": 9,
   "id": "d457d60f",
   "metadata": {
    "execution": {
     "iopub.execute_input": "2022-02-12T12:43:45.977578Z",
     "iopub.status.busy": "2022-02-12T12:43:45.976079Z",
     "iopub.status.idle": "2022-02-12T12:43:45.991064Z",
     "shell.execute_reply": "2022-02-12T12:43:45.994064Z"
    },
    "papermill": {
     "duration": 0.069215,
     "end_time": "2022-02-12T12:43:45.995569",
     "exception": false,
     "start_time": "2022-02-12T12:43:45.926354",
     "status": "completed"
    },
    "tags": []
   },
   "outputs": [
    {
     "data": {
      "text/plain": [
       "DecisionTreeClassifier(max_depth=5, splitter='random')"
      ]
     },
     "execution_count": 9,
     "metadata": {},
     "output_type": "execute_result"
    }
   ],
   "source": [
    "model.fit(X_train, y_train)"
   ]
  },
  {
   "cell_type": "code",
   "execution_count": 10,
   "id": "4fd860e1",
   "metadata": {
    "execution": {
     "iopub.execute_input": "2022-02-12T12:43:46.103728Z",
     "iopub.status.busy": "2022-02-12T12:43:46.102230Z",
     "iopub.status.idle": "2022-02-12T12:43:46.106725Z",
     "shell.execute_reply": "2022-02-12T12:43:46.107474Z"
    },
    "papermill": {
     "duration": 0.068928,
     "end_time": "2022-02-12T12:43:46.108223",
     "exception": false,
     "start_time": "2022-02-12T12:43:46.039295",
     "status": "completed"
    },
    "tags": []
   },
   "outputs": [],
   "source": [
    "y_pred = model.predict(X_test)"
   ]
  },
  {
   "cell_type": "code",
   "execution_count": 11,
   "id": "e6f88a02",
   "metadata": {
    "execution": {
     "iopub.execute_input": "2022-02-12T12:43:46.208624Z",
     "iopub.status.busy": "2022-02-12T12:43:46.207125Z",
     "iopub.status.idle": "2022-02-12T12:43:46.214634Z",
     "shell.execute_reply": "2022-02-12T12:43:46.217622Z"
    },
    "papermill": {
     "duration": 0.064435,
     "end_time": "2022-02-12T12:43:46.219113",
     "exception": false,
     "start_time": "2022-02-12T12:43:46.154678",
     "status": "completed"
    },
    "tags": []
   },
   "outputs": [
    {
     "data": {
      "text/plain": [
       "array([1, 0, 0, 0, 0, 0, 0, 1, 0, 0, 0, 0, 0, 1, 0, 0, 0, 0, 1, 1, 0, 0,\n",
       "       0, 0, 0, 0, 0, 0, 0, 0, 1, 1, 0, 1, 1, 1, 1, 1, 0, 0, 0, 0, 1, 1,\n",
       "       0, 1, 0, 0, 0, 1, 0, 0, 1, 0, 0, 0, 0, 0, 0, 0, 1, 0, 0, 0, 0, 1,\n",
       "       0, 0, 0, 1, 1, 0, 0, 0, 0, 0, 0, 0, 0, 0, 0, 0, 0, 0, 0, 1, 0, 0,\n",
       "       0, 0, 0, 0, 0, 0, 0, 1, 1, 0, 1, 1, 1, 0, 1, 1, 1, 0, 0, 1, 0, 1,\n",
       "       0, 0, 0, 0, 0, 0, 1, 0, 0, 0, 0, 0, 0, 0, 0, 0, 0, 1, 1, 1, 1, 1,\n",
       "       0, 0, 1, 0, 0, 0, 1, 0, 0, 0, 0, 1, 0, 1, 0, 0, 0, 0, 0, 1, 0, 1,\n",
       "       0, 0, 0, 0, 0, 0, 0, 0, 0, 0, 0, 1, 0, 0, 0, 0, 0, 0, 0, 1, 1, 0,\n",
       "       0, 0, 0, 0, 0, 0, 0, 1, 0, 0, 0, 0, 1, 1, 0, 0, 1, 0, 0, 0, 0, 0,\n",
       "       0, 1, 1, 0, 1, 0, 1, 0, 0, 0, 0, 0, 0, 0, 0, 0, 0, 0, 1, 0, 1, 0,\n",
       "       0, 0, 0, 0, 0, 1, 0, 0, 0, 0, 0], dtype=int64)"
      ]
     },
     "execution_count": 11,
     "metadata": {},
     "output_type": "execute_result"
    }
   ],
   "source": [
    "y_pred"
   ]
  },
  {
   "cell_type": "code",
   "execution_count": 12,
   "id": "a49823c2",
   "metadata": {
    "execution": {
     "iopub.execute_input": "2022-02-12T12:43:46.315291Z",
     "iopub.status.busy": "2022-02-12T12:43:46.314541Z",
     "iopub.status.idle": "2022-02-12T12:43:46.331778Z",
     "shell.execute_reply": "2022-02-12T12:43:46.333272Z"
    },
    "papermill": {
     "duration": 0.066681,
     "end_time": "2022-02-12T12:43:46.333272",
     "exception": false,
     "start_time": "2022-02-12T12:43:46.266591",
     "status": "completed"
    },
    "tags": []
   },
   "outputs": [
    {
     "data": {
      "text/plain": [
       "array([0, 0, 0, 0, 0, 0, 0, 0, 0, 0, 1, 0, 1, 0, 0, 1, 0, 0, 1, 1, 0, 0,\n",
       "       0, 0, 0, 1, 0, 0, 1, 0, 1, 1, 1, 1, 0, 1, 1, 1, 0, 1, 0, 0, 0, 1,\n",
       "       0, 1, 1, 0, 0, 0, 0, 1, 1, 1, 0, 0, 0, 0, 0, 1, 1, 0, 0, 1, 0, 0,\n",
       "       0, 1, 0, 1, 0, 0, 0, 1, 0, 0, 0, 0, 0, 0, 1, 1, 0, 0, 0, 1, 1, 1,\n",
       "       0, 0, 0, 0, 0, 1, 0, 0, 0, 0, 1, 0, 0, 0, 1, 0, 1, 0, 0, 1, 1, 1,\n",
       "       0, 0, 0, 1, 0, 0, 1, 0, 0, 0, 0, 0, 1, 0, 0, 0, 1, 1, 1, 0, 1, 1,\n",
       "       0, 1, 1, 0, 1, 1, 1, 0, 0, 0, 0, 0, 0, 0, 1, 0, 0, 1, 0, 0, 1, 0,\n",
       "       0, 1, 0, 0, 1, 0, 1, 1, 0, 0, 0, 1, 0, 0, 0, 1, 0, 1, 1, 0, 0, 0,\n",
       "       0, 0, 1, 1, 0, 0, 0, 1, 1, 0, 0, 0, 1, 0, 1, 0, 1, 0, 0, 0, 0, 0,\n",
       "       1, 1, 0, 0, 1, 0, 0, 0, 0, 0, 1, 1, 0, 0, 0, 0, 1, 0, 0, 1, 0, 0,\n",
       "       1, 0, 0, 0, 0, 0, 1, 1, 0, 0, 0], dtype=int64)"
      ]
     },
     "execution_count": 12,
     "metadata": {},
     "output_type": "execute_result"
    }
   ],
   "source": [
    "y_test.to_numpy()"
   ]
  },
  {
   "cell_type": "code",
   "execution_count": 13,
   "id": "ae0c4b17",
   "metadata": {
    "execution": {
     "iopub.execute_input": "2022-02-12T12:43:46.443413Z",
     "iopub.status.busy": "2022-02-12T12:43:46.441916Z",
     "iopub.status.idle": "2022-02-12T12:43:46.450906Z",
     "shell.execute_reply": "2022-02-12T12:43:46.453901Z"
    },
    "papermill": {
     "duration": 0.071931,
     "end_time": "2022-02-12T12:43:46.455403",
     "exception": false,
     "start_time": "2022-02-12T12:43:46.383472",
     "status": "completed"
    },
    "tags": []
   },
   "outputs": [],
   "source": [
    "score = metrics.accuracy_score(y_test,y_pred)"
   ]
  },
  {
   "cell_type": "code",
   "execution_count": 14,
   "id": "df664847",
   "metadata": {
    "execution": {
     "iopub.execute_input": "2022-02-12T12:43:46.565807Z",
     "iopub.status.busy": "2022-02-12T12:43:46.562811Z",
     "iopub.status.idle": "2022-02-12T12:43:46.571803Z",
     "shell.execute_reply": "2022-02-12T12:43:46.573301Z"
    },
    "papermill": {
     "duration": 0.076692,
     "end_time": "2022-02-12T12:43:46.574049",
     "exception": false,
     "start_time": "2022-02-12T12:43:46.497357",
     "status": "completed"
    },
    "tags": []
   },
   "outputs": [
    {
     "name": "stdout",
     "output_type": "stream",
     "text": [
      "0.6796536796536796\n"
     ]
    }
   ],
   "source": [
    "print(score)"
   ]
  },
  {
   "cell_type": "code",
   "execution_count": 15,
   "id": "0447bcb7",
   "metadata": {
    "execution": {
     "iopub.execute_input": "2022-02-12T12:43:46.679214Z",
     "iopub.status.busy": "2022-02-12T12:43:46.677715Z",
     "iopub.status.idle": "2022-02-12T12:43:46.682962Z",
     "shell.execute_reply": "2022-02-12T12:43:46.683709Z"
    },
    "papermill": {
     "duration": 0.06096,
     "end_time": "2022-02-12T12:43:46.684460",
     "exception": false,
     "start_time": "2022-02-12T12:43:46.623500",
     "status": "completed"
    },
    "tags": []
   },
   "outputs": [],
   "source": [
    "with open(\"deneme.txt\", \"a\") as f:\n",
    "    f.write(str(calistirma_no) + \", \" + str(score) + \"\\n\")"
   ]
  },
  {
   "cell_type": "code",
   "execution_count": 16,
   "id": "6b5defe4",
   "metadata": {
    "execution": {
     "iopub.execute_input": "2022-02-12T12:43:46.791368Z",
     "iopub.status.busy": "2022-02-12T12:43:46.790618Z",
     "iopub.status.idle": "2022-02-12T12:43:46.798117Z",
     "shell.execute_reply": "2022-02-12T12:43:46.795872Z"
    },
    "papermill": {
     "duration": 0.065707,
     "end_time": "2022-02-12T12:43:46.798117",
     "exception": false,
     "start_time": "2022-02-12T12:43:46.732410",
     "status": "completed"
    },
    "tags": []
   },
   "outputs": [
    {
     "data": {
      "text/plain": [
       "DecisionTreeClassifier()"
      ]
     },
     "execution_count": 16,
     "metadata": {},
     "output_type": "execute_result"
    }
   ],
   "source": [
    "DecisionTreeClassifier()"
   ]
  },
  {
   "cell_type": "code",
   "execution_count": null,
   "id": "0c6057d7",
   "metadata": {
    "papermill": {
     "duration": 0.058443,
     "end_time": "2022-02-12T12:43:46.901775",
     "exception": false,
     "start_time": "2022-02-12T12:43:46.843332",
     "status": "completed"
    },
    "tags": []
   },
   "outputs": [],
   "source": []
  },
  {
   "cell_type": "code",
   "execution_count": null,
   "id": "f389ea42",
   "metadata": {
    "papermill": {
     "duration": 0.056941,
     "end_time": "2022-02-12T12:43:47.017909",
     "exception": false,
     "start_time": "2022-02-12T12:43:46.960968",
     "status": "completed"
    },
    "tags": []
   },
   "outputs": [],
   "source": []
  }
 ],
 "metadata": {
  "celltoolbar": "Tags",
  "kernelspec": {
   "display_name": "Python 3 (ipykernel)",
   "language": "python",
   "name": "python3"
  },
  "language_info": {
   "codemirror_mode": {
    "name": "ipython",
    "version": 3
   },
   "file_extension": ".py",
   "mimetype": "text/x-python",
   "name": "python",
   "nbconvert_exporter": "python",
   "pygments_lexer": "ipython3",
   "version": "3.9.7"
  },
  "papermill": {
   "default_parameters": {},
   "duration": 11.083027,
   "end_time": "2022-02-12T12:43:47.803490",
   "environment_variables": {},
   "exception": null,
   "input_path": "calistirilacak_notebook.ipynb",
   "output_path": "output\\10.ipynb",
   "parameters": {
    "calistirma_no": 10,
    "criterion": "gini",
    "max_depth": 5,
    "splitter": "random"
   },
   "start_time": "2022-02-12T12:43:36.720463",
   "version": "2.3.4"
  },
  "toc": {
   "base_numbering": 1,
   "nav_menu": {},
   "number_sections": true,
   "sideBar": true,
   "skip_h1_title": false,
   "title_cell": "Table of Contents",
   "title_sidebar": "Contents",
   "toc_cell": false,
   "toc_position": {},
   "toc_section_display": true,
   "toc_window_display": false
  },
  "varInspector": {
   "cols": {
    "lenName": 16,
    "lenType": 16,
    "lenVar": 40
   },
   "kernels_config": {
    "python": {
     "delete_cmd_postfix": "",
     "delete_cmd_prefix": "del ",
     "library": "var_list.py",
     "varRefreshCmd": "print(var_dic_list())"
    },
    "r": {
     "delete_cmd_postfix": ") ",
     "delete_cmd_prefix": "rm(",
     "library": "var_list.r",
     "varRefreshCmd": "cat(var_dic_list()) "
    }
   },
   "types_to_exclude": [
    "module",
    "function",
    "builtin_function_or_method",
    "instance",
    "_Feature"
   ],
   "window_display": false
  }
 },
 "nbformat": 4,
 "nbformat_minor": 5
}