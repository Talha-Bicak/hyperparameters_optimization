{
 "cells": [
  {
   "cell_type": "code",
   "execution_count": 1,
   "id": "6816f9ae",
   "metadata": {
    "execution": {
     "iopub.execute_input": "2022-02-12T12:42:18.648888Z",
     "iopub.status.busy": "2022-02-12T12:42:18.645890Z",
     "iopub.status.idle": "2022-02-12T12:42:18.655233Z",
     "shell.execute_reply": "2022-02-12T12:42:18.658231Z"
    },
    "papermill": {
     "duration": 0.06657,
     "end_time": "2022-02-12T12:42:18.658980",
     "exception": false,
     "start_time": "2022-02-12T12:42:18.592410",
     "status": "completed"
    },
    "tags": [
     "parameters"
    ]
   },
   "outputs": [],
   "source": [
    "# parametrelerin girildiği hücre\n",
    "calistirma_no = 1\n",
    "\n",
    "# hiper parametreler\n",
    "criterion='gini'\n",
    "splitter='best'\n",
    "max_depth=None"
   ]
  },
  {
   "cell_type": "code",
   "execution_count": 2,
   "id": "6efa4cb9",
   "metadata": {
    "execution": {
     "iopub.execute_input": "2022-02-12T12:42:18.742436Z",
     "iopub.status.busy": "2022-02-12T12:42:18.740189Z",
     "iopub.status.idle": "2022-02-12T12:42:18.743933Z",
     "shell.execute_reply": "2022-02-12T12:42:18.745432Z"
    },
    "papermill": {
     "duration": 0.053956,
     "end_time": "2022-02-12T12:42:18.748438",
     "exception": false,
     "start_time": "2022-02-12T12:42:18.694482",
     "status": "completed"
    },
    "tags": [
     "injected-parameters"
    ]
   },
   "outputs": [],
   "source": [
    "# Parameters\n",
    "calistirma_no = 3\n",
    "criterion = \"gini\"\n",
    "splitter = \"best\"\n",
    "max_depth = 4\n"
   ]
  },
  {
   "cell_type": "code",
   "execution_count": 3,
   "id": "3cc16bbe",
   "metadata": {
    "execution": {
     "iopub.execute_input": "2022-02-12T12:42:18.848215Z",
     "iopub.status.busy": "2022-02-12T12:42:18.845223Z",
     "iopub.status.idle": "2022-02-12T12:42:22.319486Z",
     "shell.execute_reply": "2022-02-12T12:42:22.321744Z"
    },
    "papermill": {
     "duration": 3.527011,
     "end_time": "2022-02-12T12:42:22.323984",
     "exception": false,
     "start_time": "2022-02-12T12:42:18.796973",
     "status": "completed"
    },
    "tags": []
   },
   "outputs": [],
   "source": [
    "# Öğrenmenin gerçekleşeceği hücre\n",
    "import pandas as pd\n",
    "from sklearn.tree import DecisionTreeClassifier\n",
    "from sklearn.model_selection import train_test_split\n",
    "from sklearn import metrics"
   ]
  },
  {
   "cell_type": "code",
   "execution_count": 4,
   "id": "c06f4b1c",
   "metadata": {
    "execution": {
     "iopub.execute_input": "2022-02-12T12:42:22.575729Z",
     "iopub.status.busy": "2022-02-12T12:42:22.574231Z",
     "iopub.status.idle": "2022-02-12T12:42:22.681715Z",
     "shell.execute_reply": "2022-02-12T12:42:22.683215Z"
    },
    "papermill": {
     "duration": 0.30829,
     "end_time": "2022-02-12T12:42:22.683967",
     "exception": false,
     "start_time": "2022-02-12T12:42:22.375677",
     "status": "completed"
    },
    "tags": []
   },
   "outputs": [
    {
     "data": {
      "text/html": [
       "<div>\n",
       "<style scoped>\n",
       "    .dataframe tbody tr th:only-of-type {\n",
       "        vertical-align: middle;\n",
       "    }\n",
       "\n",
       "    .dataframe tbody tr th {\n",
       "        vertical-align: top;\n",
       "    }\n",
       "\n",
       "    .dataframe thead th {\n",
       "        text-align: right;\n",
       "    }\n",
       "</style>\n",
       "<table border=\"1\" class=\"dataframe\">\n",
       "  <thead>\n",
       "    <tr style=\"text-align: right;\">\n",
       "      <th></th>\n",
       "      <th>Pregnancies</th>\n",
       "      <th>Glucose</th>\n",
       "      <th>BloodPressure</th>\n",
       "      <th>SkinThickness</th>\n",
       "      <th>Insulin</th>\n",
       "      <th>BMI</th>\n",
       "      <th>DiabetesPedigreeFunction</th>\n",
       "      <th>Age</th>\n",
       "      <th>Outcome</th>\n",
       "    </tr>\n",
       "  </thead>\n",
       "  <tbody>\n",
       "    <tr>\n",
       "      <th>0</th>\n",
       "      <td>6</td>\n",
       "      <td>148</td>\n",
       "      <td>72</td>\n",
       "      <td>35</td>\n",
       "      <td>0</td>\n",
       "      <td>33.6</td>\n",
       "      <td>0.627</td>\n",
       "      <td>50</td>\n",
       "      <td>1</td>\n",
       "    </tr>\n",
       "    <tr>\n",
       "      <th>1</th>\n",
       "      <td>1</td>\n",
       "      <td>85</td>\n",
       "      <td>66</td>\n",
       "      <td>29</td>\n",
       "      <td>0</td>\n",
       "      <td>26.6</td>\n",
       "      <td>0.351</td>\n",
       "      <td>31</td>\n",
       "      <td>0</td>\n",
       "    </tr>\n",
       "    <tr>\n",
       "      <th>2</th>\n",
       "      <td>8</td>\n",
       "      <td>183</td>\n",
       "      <td>64</td>\n",
       "      <td>0</td>\n",
       "      <td>0</td>\n",
       "      <td>23.3</td>\n",
       "      <td>0.672</td>\n",
       "      <td>32</td>\n",
       "      <td>1</td>\n",
       "    </tr>\n",
       "    <tr>\n",
       "      <th>3</th>\n",
       "      <td>1</td>\n",
       "      <td>89</td>\n",
       "      <td>66</td>\n",
       "      <td>23</td>\n",
       "      <td>94</td>\n",
       "      <td>28.1</td>\n",
       "      <td>0.167</td>\n",
       "      <td>21</td>\n",
       "      <td>0</td>\n",
       "    </tr>\n",
       "    <tr>\n",
       "      <th>4</th>\n",
       "      <td>0</td>\n",
       "      <td>137</td>\n",
       "      <td>40</td>\n",
       "      <td>35</td>\n",
       "      <td>168</td>\n",
       "      <td>43.1</td>\n",
       "      <td>2.288</td>\n",
       "      <td>33</td>\n",
       "      <td>1</td>\n",
       "    </tr>\n",
       "  </tbody>\n",
       "</table>\n",
       "</div>"
      ],
      "text/plain": [
       "   Pregnancies  Glucose  BloodPressure  SkinThickness  Insulin   BMI  \\\n",
       "0            6      148             72             35        0  33.6   \n",
       "1            1       85             66             29        0  26.6   \n",
       "2            8      183             64              0        0  23.3   \n",
       "3            1       89             66             23       94  28.1   \n",
       "4            0      137             40             35      168  43.1   \n",
       "\n",
       "   DiabetesPedigreeFunction  Age  Outcome  \n",
       "0                     0.627   50        1  \n",
       "1                     0.351   31        0  \n",
       "2                     0.672   32        1  \n",
       "3                     0.167   21        0  \n",
       "4                     2.288   33        1  "
      ]
     },
     "execution_count": 4,
     "metadata": {},
     "output_type": "execute_result"
    }
   ],
   "source": [
    "dataset = pd.read_csv(\"diabetes.csv\")\n",
    "dataset.head()"
   ]
  },
  {
   "cell_type": "code",
   "execution_count": 5,
   "id": "ee5885ed",
   "metadata": {
    "execution": {
     "iopub.execute_input": "2022-02-12T12:42:22.851796Z",
     "iopub.status.busy": "2022-02-12T12:42:22.849547Z",
     "iopub.status.idle": "2022-02-12T12:42:22.887021Z",
     "shell.execute_reply": "2022-02-12T12:42:22.890008Z"
    },
    "papermill": {
     "duration": 0.124376,
     "end_time": "2022-02-12T12:42:22.890008",
     "exception": false,
     "start_time": "2022-02-12T12:42:22.765632",
     "status": "completed"
    },
    "tags": []
   },
   "outputs": [
    {
     "data": {
      "text/html": [
       "<div>\n",
       "<style scoped>\n",
       "    .dataframe tbody tr th:only-of-type {\n",
       "        vertical-align: middle;\n",
       "    }\n",
       "\n",
       "    .dataframe tbody tr th {\n",
       "        vertical-align: top;\n",
       "    }\n",
       "\n",
       "    .dataframe thead th {\n",
       "        text-align: right;\n",
       "    }\n",
       "</style>\n",
       "<table border=\"1\" class=\"dataframe\">\n",
       "  <thead>\n",
       "    <tr style=\"text-align: right;\">\n",
       "      <th></th>\n",
       "      <th>Pregnancies</th>\n",
       "      <th>Glucose</th>\n",
       "      <th>BloodPressure</th>\n",
       "      <th>SkinThickness</th>\n",
       "      <th>Insulin</th>\n",
       "      <th>BMI</th>\n",
       "      <th>DiabetesPedigreeFunction</th>\n",
       "      <th>Age</th>\n",
       "    </tr>\n",
       "  </thead>\n",
       "  <tbody>\n",
       "    <tr>\n",
       "      <th>0</th>\n",
       "      <td>6</td>\n",
       "      <td>148</td>\n",
       "      <td>72</td>\n",
       "      <td>35</td>\n",
       "      <td>0</td>\n",
       "      <td>33.6</td>\n",
       "      <td>0.627</td>\n",
       "      <td>50</td>\n",
       "    </tr>\n",
       "    <tr>\n",
       "      <th>1</th>\n",
       "      <td>1</td>\n",
       "      <td>85</td>\n",
       "      <td>66</td>\n",
       "      <td>29</td>\n",
       "      <td>0</td>\n",
       "      <td>26.6</td>\n",
       "      <td>0.351</td>\n",
       "      <td>31</td>\n",
       "    </tr>\n",
       "    <tr>\n",
       "      <th>2</th>\n",
       "      <td>8</td>\n",
       "      <td>183</td>\n",
       "      <td>64</td>\n",
       "      <td>0</td>\n",
       "      <td>0</td>\n",
       "      <td>23.3</td>\n",
       "      <td>0.672</td>\n",
       "      <td>32</td>\n",
       "    </tr>\n",
       "    <tr>\n",
       "      <th>3</th>\n",
       "      <td>1</td>\n",
       "      <td>89</td>\n",
       "      <td>66</td>\n",
       "      <td>23</td>\n",
       "      <td>94</td>\n",
       "      <td>28.1</td>\n",
       "      <td>0.167</td>\n",
       "      <td>21</td>\n",
       "    </tr>\n",
       "    <tr>\n",
       "      <th>4</th>\n",
       "      <td>0</td>\n",
       "      <td>137</td>\n",
       "      <td>40</td>\n",
       "      <td>35</td>\n",
       "      <td>168</td>\n",
       "      <td>43.1</td>\n",
       "      <td>2.288</td>\n",
       "      <td>33</td>\n",
       "    </tr>\n",
       "  </tbody>\n",
       "</table>\n",
       "</div>"
      ],
      "text/plain": [
       "   Pregnancies  Glucose  BloodPressure  SkinThickness  Insulin   BMI  \\\n",
       "0            6      148             72             35        0  33.6   \n",
       "1            1       85             66             29        0  26.6   \n",
       "2            8      183             64              0        0  23.3   \n",
       "3            1       89             66             23       94  28.1   \n",
       "4            0      137             40             35      168  43.1   \n",
       "\n",
       "   DiabetesPedigreeFunction  Age  \n",
       "0                     0.627   50  \n",
       "1                     0.351   31  \n",
       "2                     0.672   32  \n",
       "3                     0.167   21  \n",
       "4                     2.288   33  "
      ]
     },
     "execution_count": 5,
     "metadata": {},
     "output_type": "execute_result"
    }
   ],
   "source": [
    "X, y = dataset.iloc[:,:-1], dataset.iloc[:,-1]\n",
    "X.head()"
   ]
  },
  {
   "cell_type": "code",
   "execution_count": 6,
   "id": "717e989f",
   "metadata": {
    "execution": {
     "iopub.execute_input": "2022-02-12T12:42:23.032664Z",
     "iopub.status.busy": "2022-02-12T12:42:23.030418Z",
     "iopub.status.idle": "2022-02-12T12:42:23.035661Z",
     "shell.execute_reply": "2022-02-12T12:42:23.036407Z"
    },
    "papermill": {
     "duration": 0.083459,
     "end_time": "2022-02-12T12:42:23.037157",
     "exception": false,
     "start_time": "2022-02-12T12:42:22.953698",
     "status": "completed"
    },
    "tags": []
   },
   "outputs": [],
   "source": [
    "X_train, X_test, y_train, y_test = train_test_split(X, y, test_size=0.3, random_state=42)"
   ]
  },
  {
   "cell_type": "code",
   "execution_count": 7,
   "id": "e3b6497d",
   "metadata": {
    "execution": {
     "iopub.execute_input": "2022-02-12T12:42:23.184012Z",
     "iopub.status.busy": "2022-02-12T12:42:23.181761Z",
     "iopub.status.idle": "2022-02-12T12:42:23.193001Z",
     "shell.execute_reply": "2022-02-12T12:42:23.194503Z"
    },
    "papermill": {
     "duration": 0.091436,
     "end_time": "2022-02-12T12:42:23.195276",
     "exception": false,
     "start_time": "2022-02-12T12:42:23.103840",
     "status": "completed"
    },
    "tags": []
   },
   "outputs": [
    {
     "data": {
      "text/plain": [
       "((537, 8), (231, 8), (537,), (231,))"
      ]
     },
     "execution_count": 7,
     "metadata": {},
     "output_type": "execute_result"
    }
   ],
   "source": [
    "X_train.shape, X_test.shape, y_train.shape, y_test.shape"
   ]
  },
  {
   "cell_type": "code",
   "execution_count": 8,
   "id": "d1db563d",
   "metadata": {
    "execution": {
     "iopub.execute_input": "2022-02-12T12:42:23.357098Z",
     "iopub.status.busy": "2022-02-12T12:42:23.354090Z",
     "iopub.status.idle": "2022-02-12T12:42:23.365330Z",
     "shell.execute_reply": "2022-02-12T12:42:23.367578Z"
    },
    "papermill": {
     "duration": 0.101155,
     "end_time": "2022-02-12T12:42:23.368331",
     "exception": false,
     "start_time": "2022-02-12T12:42:23.267176",
     "status": "completed"
    },
    "tags": []
   },
   "outputs": [],
   "source": [
    "model = DecisionTreeClassifier(criterion=criterion, splitter=splitter, max_depth=max_depth)"
   ]
  },
  {
   "cell_type": "code",
   "execution_count": 9,
   "id": "d457d60f",
   "metadata": {
    "execution": {
     "iopub.execute_input": "2022-02-12T12:42:23.574423Z",
     "iopub.status.busy": "2022-02-12T12:42:23.572925Z",
     "iopub.status.idle": "2022-02-12T12:42:23.594784Z",
     "shell.execute_reply": "2022-02-12T12:42:23.593288Z"
    },
    "papermill": {
     "duration": 0.096035,
     "end_time": "2022-02-12T12:42:23.595533",
     "exception": false,
     "start_time": "2022-02-12T12:42:23.499498",
     "status": "completed"
    },
    "tags": []
   },
   "outputs": [
    {
     "data": {
      "text/plain": [
       "DecisionTreeClassifier(max_depth=4)"
      ]
     },
     "execution_count": 9,
     "metadata": {},
     "output_type": "execute_result"
    }
   ],
   "source": [
    "model.fit(X_train, y_train)"
   ]
  },
  {
   "cell_type": "code",
   "execution_count": 10,
   "id": "4fd860e1",
   "metadata": {
    "execution": {
     "iopub.execute_input": "2022-02-12T12:42:23.785093Z",
     "iopub.status.busy": "2022-02-12T12:42:23.779848Z",
     "iopub.status.idle": "2022-02-12T12:42:23.787342Z",
     "shell.execute_reply": "2022-02-12T12:42:23.790343Z"
    },
    "papermill": {
     "duration": 0.129618,
     "end_time": "2022-02-12T12:42:23.791835",
     "exception": false,
     "start_time": "2022-02-12T12:42:23.662217",
     "status": "completed"
    },
    "tags": []
   },
   "outputs": [],
   "source": [
    "y_pred = model.predict(X_test)"
   ]
  },
  {
   "cell_type": "code",
   "execution_count": 11,
   "id": "e6f88a02",
   "metadata": {
    "execution": {
     "iopub.execute_input": "2022-02-12T12:42:23.935693Z",
     "iopub.status.busy": "2022-02-12T12:42:23.934193Z",
     "iopub.status.idle": "2022-02-12T12:42:23.940936Z",
     "shell.execute_reply": "2022-02-12T12:42:23.942435Z"
    },
    "papermill": {
     "duration": 0.085415,
     "end_time": "2022-02-12T12:42:23.943184",
     "exception": false,
     "start_time": "2022-02-12T12:42:23.857769",
     "status": "completed"
    },
    "tags": []
   },
   "outputs": [
    {
     "data": {
      "text/plain": [
       "array([1, 0, 0, 0, 1, 1, 0, 1, 1, 1, 1, 1, 1, 1, 0, 0, 0, 0, 1, 0, 1, 0,\n",
       "       1, 0, 1, 1, 0, 0, 0, 0, 1, 1, 1, 1, 1, 1, 1, 1, 0, 1, 0, 0, 1, 1,\n",
       "       0, 1, 1, 0, 0, 1, 0, 1, 1, 0, 0, 0, 1, 0, 0, 1, 1, 0, 0, 0, 0, 0,\n",
       "       0, 1, 0, 1, 1, 0, 0, 0, 1, 1, 0, 0, 0, 1, 1, 0, 0, 0, 0, 1, 1, 1,\n",
       "       1, 0, 0, 0, 0, 1, 0, 0, 1, 0, 1, 0, 1, 0, 1, 1, 1, 0, 0, 1, 0, 1,\n",
       "       0, 1, 0, 1, 0, 0, 1, 1, 0, 1, 0, 0, 1, 0, 0, 1, 0, 1, 1, 1, 1, 1,\n",
       "       0, 1, 1, 1, 0, 1, 1, 0, 0, 0, 1, 0, 0, 0, 0, 0, 1, 1, 0, 1, 1, 0,\n",
       "       0, 1, 1, 1, 1, 0, 1, 1, 0, 0, 0, 1, 0, 0, 1, 1, 1, 0, 1, 1, 1, 0,\n",
       "       1, 1, 1, 1, 0, 0, 1, 0, 1, 0, 0, 0, 1, 1, 0, 0, 1, 0, 0, 0, 0, 0,\n",
       "       0, 1, 0, 0, 1, 0, 1, 0, 0, 1, 1, 0, 0, 0, 0, 0, 1, 0, 1, 1, 1, 1,\n",
       "       1, 0, 0, 0, 0, 1, 0, 0, 0, 1, 0], dtype=int64)"
      ]
     },
     "execution_count": 11,
     "metadata": {},
     "output_type": "execute_result"
    }
   ],
   "source": [
    "y_pred"
   ]
  },
  {
   "cell_type": "code",
   "execution_count": 12,
   "id": "a49823c2",
   "metadata": {
    "execution": {
     "iopub.execute_input": "2022-02-12T12:42:24.102025Z",
     "iopub.status.busy": "2022-02-12T12:42:24.100529Z",
     "iopub.status.idle": "2022-02-12T12:42:24.106521Z",
     "shell.execute_reply": "2022-02-12T12:42:24.107270Z"
    },
    "papermill": {
     "duration": 0.09965,
     "end_time": "2022-02-12T12:42:24.108019",
     "exception": false,
     "start_time": "2022-02-12T12:42:24.008369",
     "status": "completed"
    },
    "tags": []
   },
   "outputs": [
    {
     "data": {
      "text/plain": [
       "array([0, 0, 0, 0, 0, 0, 0, 0, 0, 0, 1, 0, 1, 0, 0, 1, 0, 0, 1, 1, 0, 0,\n",
       "       0, 0, 0, 1, 0, 0, 1, 0, 1, 1, 1, 1, 0, 1, 1, 1, 0, 1, 0, 0, 0, 1,\n",
       "       0, 1, 1, 0, 0, 0, 0, 1, 1, 1, 0, 0, 0, 0, 0, 1, 1, 0, 0, 1, 0, 0,\n",
       "       0, 1, 0, 1, 0, 0, 0, 1, 0, 0, 0, 0, 0, 0, 1, 1, 0, 0, 0, 1, 1, 1,\n",
       "       0, 0, 0, 0, 0, 1, 0, 0, 0, 0, 1, 0, 0, 0, 1, 0, 1, 0, 0, 1, 1, 1,\n",
       "       0, 0, 0, 1, 0, 0, 1, 0, 0, 0, 0, 0, 1, 0, 0, 0, 1, 1, 1, 0, 1, 1,\n",
       "       0, 1, 1, 0, 1, 1, 1, 0, 0, 0, 0, 0, 0, 0, 1, 0, 0, 1, 0, 0, 1, 0,\n",
       "       0, 1, 0, 0, 1, 0, 1, 1, 0, 0, 0, 1, 0, 0, 0, 1, 0, 1, 1, 0, 0, 0,\n",
       "       0, 0, 1, 1, 0, 0, 0, 1, 1, 0, 0, 0, 1, 0, 1, 0, 1, 0, 0, 0, 0, 0,\n",
       "       1, 1, 0, 0, 1, 0, 0, 0, 0, 0, 1, 1, 0, 0, 0, 0, 1, 0, 0, 1, 0, 0,\n",
       "       1, 0, 0, 0, 0, 0, 1, 1, 0, 0, 0], dtype=int64)"
      ]
     },
     "execution_count": 12,
     "metadata": {},
     "output_type": "execute_result"
    }
   ],
   "source": [
    "y_test.to_numpy()"
   ]
  },
  {
   "cell_type": "code",
   "execution_count": 13,
   "id": "ae0c4b17",
   "metadata": {
    "execution": {
     "iopub.execute_input": "2022-02-12T12:42:24.247388Z",
     "iopub.status.busy": "2022-02-12T12:42:24.245134Z",
     "iopub.status.idle": "2022-02-12T12:42:24.252633Z",
     "shell.execute_reply": "2022-02-12T12:42:24.253374Z"
    },
    "papermill": {
     "duration": 0.08092,
     "end_time": "2022-02-12T12:42:24.254124",
     "exception": false,
     "start_time": "2022-02-12T12:42:24.173204",
     "status": "completed"
    },
    "tags": []
   },
   "outputs": [],
   "source": [
    "score = metrics.accuracy_score(y_test,y_pred)"
   ]
  },
  {
   "cell_type": "code",
   "execution_count": 14,
   "id": "df664847",
   "metadata": {
    "execution": {
     "iopub.execute_input": "2022-02-12T12:42:24.382997Z",
     "iopub.status.busy": "2022-02-12T12:42:24.378499Z",
     "iopub.status.idle": "2022-02-12T12:42:24.394232Z",
     "shell.execute_reply": "2022-02-12T12:42:24.392734Z"
    },
    "papermill": {
     "duration": 0.087662,
     "end_time": "2022-02-12T12:42:24.394232",
     "exception": false,
     "start_time": "2022-02-12T12:42:24.306570",
     "status": "completed"
    },
    "tags": []
   },
   "outputs": [
    {
     "name": "stdout",
     "output_type": "stream",
     "text": [
      "0.70995670995671\n"
     ]
    }
   ],
   "source": [
    "print(score)"
   ]
  },
  {
   "cell_type": "code",
   "execution_count": 15,
   "id": "0447bcb7",
   "metadata": {
    "execution": {
     "iopub.execute_input": "2022-02-12T12:42:24.532384Z",
     "iopub.status.busy": "2022-02-12T12:42:24.530145Z",
     "iopub.status.idle": "2022-02-12T12:42:24.536877Z",
     "shell.execute_reply": "2022-02-12T12:42:24.538375Z"
    },
    "papermill": {
     "duration": 0.093195,
     "end_time": "2022-02-12T12:42:24.539126",
     "exception": false,
     "start_time": "2022-02-12T12:42:24.445931",
     "status": "completed"
    },
    "tags": []
   },
   "outputs": [],
   "source": [
    "with open(\"deneme.txt\", \"a\") as f:\n",
    "    f.write(str(calistirma_no) + \", \" + str(score) + \"\\n\")"
   ]
  },
  {
   "cell_type": "code",
   "execution_count": 16,
   "id": "6b5defe4",
   "metadata": {
    "execution": {
     "iopub.execute_input": "2022-02-12T12:42:24.669495Z",
     "iopub.status.busy": "2022-02-12T12:42:24.667245Z",
     "iopub.status.idle": "2022-02-12T12:42:24.674739Z",
     "shell.execute_reply": "2022-02-12T12:42:24.675488Z"
    },
    "papermill": {
     "duration": 0.069679,
     "end_time": "2022-02-12T12:42:24.676237",
     "exception": false,
     "start_time": "2022-02-12T12:42:24.606558",
     "status": "completed"
    },
    "tags": []
   },
   "outputs": [
    {
     "data": {
      "text/plain": [
       "DecisionTreeClassifier()"
      ]
     },
     "execution_count": 16,
     "metadata": {},
     "output_type": "execute_result"
    }
   ],
   "source": [
    "DecisionTreeClassifier()"
   ]
  },
  {
   "cell_type": "code",
   "execution_count": null,
   "id": "0c6057d7",
   "metadata": {
    "papermill": {
     "duration": 0.051699,
     "end_time": "2022-02-12T12:42:24.789374",
     "exception": false,
     "start_time": "2022-02-12T12:42:24.737675",
     "status": "completed"
    },
    "tags": []
   },
   "outputs": [],
   "source": []
  },
  {
   "cell_type": "code",
   "execution_count": null,
   "id": "f389ea42",
   "metadata": {
    "papermill": {
     "duration": 0.071178,
     "end_time": "2022-02-12T12:42:24.920492",
     "exception": false,
     "start_time": "2022-02-12T12:42:24.849314",
     "status": "completed"
    },
    "tags": []
   },
   "outputs": [],
   "source": []
  }
 ],
 "metadata": {
  "celltoolbar": "Tags",
  "kernelspec": {
   "display_name": "Python 3 (ipykernel)",
   "language": "python",
   "name": "python3"
  },
  "language_info": {
   "codemirror_mode": {
    "name": "ipython",
    "version": 3
   },
   "file_extension": ".py",
   "mimetype": "text/x-python",
   "name": "python",
   "nbconvert_exporter": "python",
   "pygments_lexer": "ipython3",
   "version": "3.9.7"
  },
  "papermill": {
   "default_parameters": {},
   "duration": 13.347571,
   "end_time": "2022-02-12T12:42:26.234809",
   "environment_variables": {},
   "exception": null,
   "input_path": "calistirilacak_notebook.ipynb",
   "output_path": "output\\3.ipynb",
   "parameters": {
    "calistirma_no": 3,
    "criterion": "gini",
    "max_depth": 4,
    "splitter": "best"
   },
   "start_time": "2022-02-12T12:42:12.887238",
   "version": "2.3.4"
  },
  "toc": {
   "base_numbering": 1,
   "nav_menu": {},
   "number_sections": true,
   "sideBar": true,
   "skip_h1_title": false,
   "title_cell": "Table of Contents",
   "title_sidebar": "Contents",
   "toc_cell": false,
   "toc_position": {},
   "toc_section_display": true,
   "toc_window_display": false
  },
  "varInspector": {
   "cols": {
    "lenName": 16,
    "lenType": 16,
    "lenVar": 40
   },
   "kernels_config": {
    "python": {
     "delete_cmd_postfix": "",
     "delete_cmd_prefix": "del ",
     "library": "var_list.py",
     "varRefreshCmd": "print(var_dic_list())"
    },
    "r": {
     "delete_cmd_postfix": ") ",
     "delete_cmd_prefix": "rm(",
     "library": "var_list.r",
     "varRefreshCmd": "cat(var_dic_list()) "
    }
   },
   "types_to_exclude": [
    "module",
    "function",
    "builtin_function_or_method",
    "instance",
    "_Feature"
   ],
   "window_display": false
  }
 },
 "nbformat": 4,
 "nbformat_minor": 5
}
